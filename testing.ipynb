{
 "cells": [
  {
   "cell_type": "code",
   "execution_count": 30,
   "metadata": {},
   "outputs": [],
   "source": [
    "from pytube import YouTube\n",
    "import os\n",
    "import shutil\n",
    "\n",
    "curr_dir = \"/home/sean/Documents/experiments/stage-mix-generator/\"\n",
    "download_dir = os.path.join(curr_dir, 'temp')"
   ]
  },
  {
   "cell_type": "code",
   "execution_count": 31,
   "metadata": {},
   "outputs": [],
   "source": [
    "# get videos via youtube api\n",
    "lyrics_video_url = \"https://www.youtube.com/watch?v=mIXR-7u2Kas\"\n",
    "stage_video_urls = [\n",
    "    \"https://www.youtube.com/watch?v=kda_53A0ZpI\",\n",
    "    \"https://www.youtube.com/watch?v=zzq8uI1BnJk\",\n",
    "    \"https://www.youtube.com/watch?v=Q65bS5EyX5I\",\n",
    "    \"https://www.youtube.com/watch?v=QsV25Q6VldA\"\n",
    "]"
   ]
  },
  {
   "cell_type": "code",
   "execution_count": 35,
   "metadata": {},
   "outputs": [
    {
     "name": "stdout",
     "output_type": "stream",
     "text": [
      "[youtube] mIXR-7u2Kas: Downloading webpage\n",
      "[youtube] mIXR-7u2Kas: Downloading video info webpage\n",
      "[download] /home/sean/Documents/experiments/stage-mix-generator/temp/mIXR-7u2Kas.mp4 has already been downloaded\n",
      "[download] 100% of 8.88MiB\n",
      "[youtube] mIXR-7u2Kas: Downloading webpage\n",
      "[youtube] mIXR-7u2Kas: Downloading video info webpage\n",
      "[youtube] kda_53A0ZpI: Downloading webpage\n",
      "[youtube] kda_53A0ZpI: Downloading video info webpage\n",
      "[download] /home/sean/Documents/experiments/stage-mix-generator/temp/kda_53A0ZpI.mp4 has already been downloaded\n",
      "[download] 100% of 25.29MiB\n",
      "[youtube] kda_53A0ZpI: Downloading webpage\n",
      "[youtube] kda_53A0ZpI: Downloading video info webpage\n",
      "[youtube] zzq8uI1BnJk: Downloading webpage\n",
      "[youtube] zzq8uI1BnJk: Downloading video info webpage\n",
      "[download] /home/sean/Documents/experiments/stage-mix-generator/temp/zzq8uI1BnJk.mp4 has already been downloaded\n",
      "[download] 100% of 21.99MiB\n",
      "[youtube] zzq8uI1BnJk: Downloading webpage\n",
      "[youtube] zzq8uI1BnJk: Downloading video info webpage\n",
      "[youtube] Q65bS5EyX5I: Downloading webpage\n",
      "[youtube] Q65bS5EyX5I: Downloading video info webpage\n",
      "[download] /home/sean/Documents/experiments/stage-mix-generator/temp/Q65bS5EyX5I.mp4 has already been downloaded\n",
      "[download] 100% of 19.79MiB\n",
      "[youtube] Q65bS5EyX5I: Downloading webpage\n",
      "[youtube] Q65bS5EyX5I: Downloading video info webpage\n",
      "[youtube] QsV25Q6VldA: Downloading webpage\n",
      "[youtube] QsV25Q6VldA: Downloading video info webpage\n",
      "[download] /home/sean/Documents/experiments/stage-mix-generator/temp/QsV25Q6VldA.mp4 has already been downloaded\n",
      "[download] 100% of 20.69MiB\n",
      "[youtube] QsV25Q6VldA: Downloading webpage\n",
      "[youtube] QsV25Q6VldA: Downloading video info webpage\n"
     ]
    }
   ],
   "source": [
    "# download videos\n",
    "\n",
    "ydl_opts = {     \n",
    "    'outtmpl': os.path.join(download_dir, '%(id)s.%(ext)s')\n",
    "}\n",
    "with youtube_dl.YoutubeDL(ydl_opts) as ydl:\n",
    "    ydl.download([lyrics_video_url])\n",
    "    meta = ydl.extract_info(\n",
    "        lyrics_video_url, download=False)\n",
    "    \n",
    "    shutil.move(os.path.join(download_dir, f\"{meta['id']}.mp4\"), os.path.join(download_dir, \"lyrics_video.mp4\"))\n",
    "    \n",
    "    for i, url in enumerate(stage_video_urls):\n",
    "        ydl.download([url])\n",
    "        meta = ydl.extract_info(\n",
    "            url, download=False)\n",
    "        \n",
    "        shutil.move(os.path.join(download_dir, f\"{meta['id']}.mp4\"), os.path.join(download_dir, f\"stage_video{i}.mp4\"))"
   ]
  },
  {
   "cell_type": "code",
   "execution_count": 3,
   "metadata": {},
   "outputs": [],
   "source": [
    "lyrics_video_path = os.path.join(download_dir, 'lyrics_video.mp4')\n",
    "stage_video_paths = [ os.path.join(download_dir, f'stage_video{i}.mp4') for i in range(len(stage_video_urls)) ]\n",
    "\n",
    "# find timestamp of start of song in stage videos\n",
    "\n",
    "\n",
    "# get subclips of the song in the stage videos"
   ]
  },
  {
   "cell_type": "code",
   "execution_count": null,
   "metadata": {},
   "outputs": [],
   "source": [
    "# every 5 seconds during the song, splice clips from different performances"
   ]
  }
 ],
 "metadata": {
  "kernelspec": {
   "display_name": "Python 3",
   "language": "python",
   "name": "python3"
  },
  "language_info": {
   "codemirror_mode": {
    "name": "ipython",
    "version": 3
   },
   "file_extension": ".py",
   "mimetype": "text/x-python",
   "name": "python",
   "nbconvert_exporter": "python",
   "pygments_lexer": "ipython3",
   "version": "3.6.7"
  }
 },
 "nbformat": 4,
 "nbformat_minor": 2
}
