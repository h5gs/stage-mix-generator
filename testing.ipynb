{
 "cells": [
  {
   "cell_type": "code",
   "execution_count": 13,
   "metadata": {},
   "outputs": [],
   "source": [
    "import youtube_dl\n",
    "import os\n",
    "import sys\n",
    "import shutil\n",
    "from moviepy.editor import VideoFileClip, AudioFileClip, concatenate_videoclips\n",
    "import numpy as np\n",
    "import urllib.request\n",
    "from bs4 import BeautifulSoup\n",
    "from subprocess import Popen, PIPE\n",
    "import pandas as pd\n",
    "\n",
    "import utils\n",
    "\n",
    "from cvcalib.audiosync import offset\n",
    "\n",
    "curr_dir = \"/home/sean/Documents/experiments/stage-mix-generator/\"\n",
    "download_dir = os.path.join(curr_dir, 'temp')"
   ]
  },
  {
   "cell_type": "code",
   "execution_count": 2,
   "metadata": {},
   "outputs": [],
   "source": [
    "song_text = \"Boy With Luv BTS\"\n",
    "lyrics_video_url = \"\"\n",
    "stage_video_urls = []"
   ]
  },
  {
   "cell_type": "code",
   "execution_count": 3,
   "metadata": {},
   "outputs": [],
   "source": [
    "textToSearch = song_text+' lyrics'\n",
    "\n",
    "query = urllib.parse.quote(textToSearch)\n",
    "url = \"https://www.youtube.com/results?search_query=\" + query\n",
    "response = urllib.request.urlopen(url)\n",
    "html = response.read()\n",
    "soup = BeautifulSoup(html, 'html.parser')\n",
    "for vid in soup.findAll(attrs={'class':'yt-uix-tile-link'}):\n",
    "    if 'stage mix' not in vid['title'].lower():\n",
    "        lyrics_video_url = 'https://www.youtube.com' + vid['href']\n",
    "        break"
   ]
  },
  {
   "cell_type": "code",
   "execution_count": 4,
   "metadata": {},
   "outputs": [],
   "source": [
    "textToSearch = song_text+' stage live'\n",
    "\n",
    "query = urllib.parse.quote(textToSearch)\n",
    "url = \"https://www.youtube.com/results?search_query=\" + query\n",
    "response = urllib.request.urlopen(url)\n",
    "html = response.read()\n",
    "soup = BeautifulSoup(html, 'html.parser')\n",
    "for vid in soup.findAll(attrs={'class':'yt-uix-tile-link'}):\n",
    "    if 'stage mix' not in vid['title'].lower():\n",
    "        stage_video_urls.append('https://www.youtube.com' + vid['href'])\n",
    "        \n",
    "        if len(stage_video_urls) >= 5:\n",
    "            break"
   ]
  },
  {
   "cell_type": "code",
   "execution_count": 5,
   "metadata": {},
   "outputs": [
    {
     "ename": "IndentationError",
     "evalue": "expected an indented block (<ipython-input-5-9fe99a192f0b>, line 19)",
     "output_type": "error",
     "traceback": [
      "\u001b[1;36m  File \u001b[1;32m\"<ipython-input-5-9fe99a192f0b>\"\u001b[1;36m, line \u001b[1;32m19\u001b[0m\n\u001b[1;33m    ydl.download([yrics_video_url])\u001b[0m\n\u001b[1;37m    ^\u001b[0m\n\u001b[1;31mIndentationError\u001b[0m\u001b[1;31m:\u001b[0m expected an indented block\n"
     ]
    }
   ],
   "source": [
    "# download videos\n",
    "\n",
    "ydl_opts = {\n",
    "    'format': 'mp4',\n",
    "    'outtmpl': os.path.join(download_dir, '%(id)s.%(ext)s')\n",
    "}\n",
    "with youtube_dl.YoutubeDL(ydl_opts) as ydl:\n",
    "    \n",
    "    meta = ydl.extract_info(\n",
    "        lyrics_video_url, download=False)\n",
    "    \n",
    "    print(meta['formats'])\n",
    "    \n",
    "    lyrics_audio = None\n",
    "    for fmt in meta['formats']:\n",
    "        if fmt['format_id'] == 140:\n",
    "            \n",
    "    \n",
    "    ydl.download([yrics_video_url])\n",
    "    \n",
    "    shutil.move(os.path.join(download_dir, f\"{meta['id']}.mp4\"), os.path.join(download_dir, \"lyrics_video.mp4\"))\n",
    "    \n",
    "    for i, url in enumerate(stage_video_urls):\n",
    "        ydl.download([url])\n",
    "        meta = ydl.extract_info(\n",
    "            url, download=False)\n",
    "        \n",
    "        shutil.move(os.path.join(download_dir, f\"{meta['id']}.mp4\"), os.path.join(download_dir, f\"stage_video{i}.mp4\"))"
   ]
  },
  {
   "cell_type": "code",
   "execution_count": null,
   "metadata": {},
   "outputs": [],
   "source": [
    "ydl_opts = {\n",
    "    'format': 'm4a', # choice of quality\n",
    "    'outtmpl': os.path.join(download_dir, '%(id)s.%(ext)s')\n",
    "}\n",
    "with youtube_dl.YoutubeDL(ydl_opts) as ydl:\n",
    "    meta = ydl.extract_info('https://www.youtube.com/watch?v=zzq8uI1BnJk', download=False)\n",
    "    ydl.download(['https://www.youtube.com/watch?v=zzq8uI1BnJk'])\n",
    "    \n",
    "    shutil.move(os.path.join(download_dir, f\"{meta['id']}.m4a\"), os.path.join(download_dir, \"lyrics_video.m4a\"))"
   ]
  },
  {
   "cell_type": "code",
   "execution_count": 6,
   "metadata": {},
   "outputs": [
    {
     "ename": "RuntimeError",
     "evalue": "ffmpeg error:\nb'ffmpeg version 4.1.3 Copyright (c) 2000-2019 the FFmpeg developers\\r\\n  built with gcc 8.3.1 (GCC) 20190414\\r\\n  configuration: --disable-static --enable-shared --enable-gpl --enable-version3 --enable-sdl2 --enable-fontconfig --enable-gnutls --enable-iconv --enable-libass --enable-libbluray --enable-libfreetype --enable-libmp3lame --enable-libopencore-amrnb --enable-libopencore-amrwb --enable-libopenjpeg --enable-libopus --enable-libshine --enable-libsnappy --enable-libsoxr --enable-libtheora --enable-libtwolame --enable-libvpx --enable-libwavpack --enable-libwebp --enable-libx264 --enable-libx265 --enable-libxml2 --enable-libzimg --enable-lzma --enable-zlib --enable-gmp --enable-libvidstab --enable-libvorbis --enable-libvo-amrwbenc --enable-libmysofa --enable-libspeex --enable-libxvid --enable-libaom --enable-libmfx --enable-amf --enable-ffnvcodec --enable-cuvid --enable-d3d11va --enable-nvenc --enable-nvdec --enable-dxva2 --enable-avisynth\\r\\n  libavutil      56. 22.100 / 56. 22.100\\r\\n  libavcodec     58. 35.100 / 58. 35.100\\r\\n  libavformat    58. 20.100 / 58. 20.100\\r\\n  libavdevice    58.  5.100 / 58.  5.100\\r\\n  libavfilter     7. 40.101 /  7. 40.101\\r\\n  libswscale      5.  3.100 /  5.  3.100\\r\\n  libswresample   3.  3.100 /  3.  3.100\\r\\n  libpostproc    55.  3.100 / 55.  3.100\\r\\n/home/sean/Documents/experiments/stage-mix-generator/temp/lyrics_video.mp4: No such file or directory\\r\\n'",
     "output_type": "error",
     "traceback": [
      "\u001b[1;31m---------------------------------------------------------------------------\u001b[0m",
      "\u001b[1;31mRuntimeError\u001b[0m                              Traceback (most recent call last)",
      "\u001b[1;32m<ipython-input-6-5ce95f22c236>\u001b[0m in \u001b[0;36m<module>\u001b[1;34m\u001b[0m\n\u001b[0;32m      3\u001b[0m \u001b[1;33m\u001b[0m\u001b[0m\n\u001b[0;32m      4\u001b[0m \u001b[1;31m# find timestamp of start of song in stage videos\u001b[0m\u001b[1;33m\u001b[0m\u001b[1;33m\u001b[0m\u001b[1;33m\u001b[0m\u001b[0m\n\u001b[1;32m----> 5\u001b[1;33m \u001b[0moffset\u001b[0m\u001b[1;33m.\u001b[0m\u001b[0mfind_time_offset\u001b[0m\u001b[1;33m(\u001b[0m\u001b[1;33m[\u001b[0m\u001b[1;34m'lyrics_video.mp4'\u001b[0m\u001b[1;33m,\u001b[0m \u001b[1;34m'stage_video0.mp4'\u001b[0m\u001b[1;33m]\u001b[0m\u001b[1;33m,\u001b[0m \u001b[0mdownload_dir\u001b[0m\u001b[1;33m+\u001b[0m\u001b[1;34m'/'\u001b[0m\u001b[1;33m,\u001b[0m \u001b[1;33m[\u001b[0m\u001b[1;36m0\u001b[0m\u001b[1;33m,\u001b[0m \u001b[1;36m0\u001b[0m\u001b[1;33m]\u001b[0m\u001b[1;33m)\u001b[0m\u001b[1;33m\u001b[0m\u001b[1;33m\u001b[0m\u001b[0m\n\u001b[0m",
      "\u001b[1;32m~\\Documents\\experiments\\stage-mix-generator\\cvcalib\\audiosync\\offset.py\u001b[0m in \u001b[0;36mfind_time_offset\u001b[1;34m(video_filenames, folder, audio_delays, fft_bin_size, overlap, box_height, box_width, samples_per_box)\u001b[0m\n\u001b[0;32m    198\u001b[0m     \u001b[0mretcode\u001b[0m\u001b[1;33m,\u001b[0m \u001b[0merr_text\u001b[0m\u001b[1;33m,\u001b[0m \u001b[0mwavfile1\u001b[0m\u001b[1;33m,\u001b[0m \u001b[0moutput\u001b[0m  \u001b[1;33m=\u001b[0m \u001b[0mextract_audio\u001b[0m\u001b[1;33m(\u001b[0m\u001b[0mfolder\u001b[0m\u001b[1;33m,\u001b[0m \u001b[0mvideo_filenames\u001b[0m\u001b[1;33m[\u001b[0m\u001b[1;36m0\u001b[0m\u001b[1;33m]\u001b[0m\u001b[1;33m)\u001b[0m\u001b[1;31m#@UnusedVariable\u001b[0m\u001b[1;33m\u001b[0m\u001b[1;33m\u001b[0m\u001b[0m\n\u001b[0;32m    199\u001b[0m     \u001b[1;32mif\u001b[0m\u001b[1;33m(\u001b[0m\u001b[0mretcode\u001b[0m \u001b[1;33m!=\u001b[0m \u001b[1;36m0\u001b[0m\u001b[1;33m)\u001b[0m\u001b[1;33m:\u001b[0m\u001b[1;33m\u001b[0m\u001b[1;33m\u001b[0m\u001b[0m\n\u001b[1;32m--> 200\u001b[1;33m         \u001b[1;32mraise\u001b[0m \u001b[0mRuntimeError\u001b[0m\u001b[1;33m(\u001b[0m\u001b[1;34m\"ffmpeg error:\\n{0:s}\"\u001b[0m\u001b[1;33m.\u001b[0m\u001b[0mformat\u001b[0m\u001b[1;33m(\u001b[0m\u001b[0merr_text\u001b[0m\u001b[1;33m)\u001b[0m\u001b[1;33m)\u001b[0m\u001b[1;33m\u001b[0m\u001b[1;33m\u001b[0m\u001b[0m\n\u001b[0m\u001b[0;32m    201\u001b[0m     \u001b[0mframe_rate1\u001b[0m \u001b[1;33m=\u001b[0m \u001b[0mparse_frame_rate\u001b[0m\u001b[1;33m(\u001b[0m\u001b[0merr_text\u001b[0m\u001b[1;33m)\u001b[0m\u001b[1;31m#turns out ffmpeg prints its regular output to stderr (?)\u001b[0m\u001b[1;33m\u001b[0m\u001b[1;33m\u001b[0m\u001b[0m\n\u001b[0;32m    202\u001b[0m     \u001b[0mraw_audio1\u001b[0m\u001b[1;33m,\u001b[0m \u001b[0mrate1\u001b[0m \u001b[1;33m=\u001b[0m \u001b[0mread_audio\u001b[0m\u001b[1;33m(\u001b[0m\u001b[0mwavfile1\u001b[0m\u001b[1;33m)\u001b[0m\u001b[1;33m\u001b[0m\u001b[1;33m\u001b[0m\u001b[0m\n",
      "\u001b[1;31mRuntimeError\u001b[0m: ffmpeg error:\nb'ffmpeg version 4.1.3 Copyright (c) 2000-2019 the FFmpeg developers\\r\\n  built with gcc 8.3.1 (GCC) 20190414\\r\\n  configuration: --disable-static --enable-shared --enable-gpl --enable-version3 --enable-sdl2 --enable-fontconfig --enable-gnutls --enable-iconv --enable-libass --enable-libbluray --enable-libfreetype --enable-libmp3lame --enable-libopencore-amrnb --enable-libopencore-amrwb --enable-libopenjpeg --enable-libopus --enable-libshine --enable-libsnappy --enable-libsoxr --enable-libtheora --enable-libtwolame --enable-libvpx --enable-libwavpack --enable-libwebp --enable-libx264 --enable-libx265 --enable-libxml2 --enable-libzimg --enable-lzma --enable-zlib --enable-gmp --enable-libvidstab --enable-libvorbis --enable-libvo-amrwbenc --enable-libmysofa --enable-libspeex --enable-libxvid --enable-libaom --enable-libmfx --enable-amf --enable-ffnvcodec --enable-cuvid --enable-d3d11va --enable-nvenc --enable-nvdec --enable-dxva2 --enable-avisynth\\r\\n  libavutil      56. 22.100 / 56. 22.100\\r\\n  libavcodec     58. 35.100 / 58. 35.100\\r\\n  libavformat    58. 20.100 / 58. 20.100\\r\\n  libavdevice    58.  5.100 / 58.  5.100\\r\\n  libavfilter     7. 40.101 /  7. 40.101\\r\\n  libswscale      5.  3.100 /  5.  3.100\\r\\n  libswresample   3.  3.100 /  3.  3.100\\r\\n  libpostproc    55.  3.100 / 55.  3.100\\r\\n/home/sean/Documents/experiments/stage-mix-generator/temp/lyrics_video.mp4: No such file or directory\\r\\n'"
     ]
    }
   ],
   "source": [
    "lyrics_video_path = os.path.join(download_dir, 'lyrics_video.mp4')\n",
    "stage_video_paths = [ os.path.join(download_dir, f'stage_video{i}.mp4') for i in range(len(stage_video_urls)) ]\n",
    "\n",
    "# find timestamp of start of song in stage videos\n",
    "offset.find_time_offset(['lyrics_video.mp4', 'stage_video0.mp4'], download_dir+'/', [0, 0])"
   ]
  },
  {
   "cell_type": "code",
   "execution_count": null,
   "metadata": {},
   "outputs": [],
   "source": [
    "import os.path as osp\n",
    "from subprocess import Popen, PIPE\n",
    "folder = download_dir\n",
    "audio_file = 'lyrics_audio.m4a'\n",
    "track_name = audio_file.split(\".\")\n",
    "audio_output_name = track_name[0] + \"WAV.wav\"  # !! CHECK TO SEE IF FILE IS IN UPLOADS DIRECTORY\n",
    "audio_output_path = osp.join(folder,audio_output_name)\n",
    "#ffmpeg was accepted back into Debian, and libav is now a 2nd choice, so, what gives? -Greg\n",
    "#Now piping the output back to this process (to reduce verbosity and potentially be able to use\n",
    "#the output).-Greg\n",
    "#TODO: detect whether user has avconv or ffmpeg, and use the appropriate call\n",
    "args = [\"ffmpeg\", \"-y\", \"-i\", osp.join(folder, audio_file), \"-ac\", \"1\", \"-f\", \"wav\", audio_output_path]\n",
    "process = Popen(args, stdout=PIPE, stderr=PIPE)\n",
    "output, err = process.communicate()\n",
    "exit_code = process.wait()\n",
    "exit_code#, str(err), audio_output_path, str(output)"
   ]
  },
  {
   "cell_type": "code",
   "execution_count": null,
   "metadata": {},
   "outputs": [],
   "source": [
    "stage_song_starts = []\n",
    "for i in range(len(stage_video_urls)):\n",
    "    output = offset.find_time_offset(['lyrics_video.mp4', f'stage_video{i}.mp4'], download_dir+'/', [0, 0])\n",
    "    print(output)\n",
    "    stage_song_starts.append(output[0])"
   ]
  },
  {
   "cell_type": "code",
   "execution_count": 15,
   "metadata": {},
   "outputs": [
    {
     "name": "stdout",
     "output_type": "stream",
     "text": [
      "Could not determine frame rate from ffmpeg output. Printing output...\n",
      "Could not determine frame rate from ffmpeg output. Printing output...\n",
      "((54.4856, 0), 0.0)\n",
      "Could not determine frame rate from ffmpeg output. Printing output...\n",
      "Could not determine frame rate from ffmpeg output. Printing output...\n",
      "((54.5321, 0), 0.0)\n",
      "Could not determine frame rate from ffmpeg output. Printing output...\n",
      "Could not determine frame rate from ffmpeg output. Printing output...\n",
      "((50.8053, 0), 0.0)\n",
      "No suitible videos found\n"
     ]
    }
   ],
   "source": [
    "DWNLD_DIR = os.path.join('.', 'temp')\n",
    "\n",
    "song_audio_filepath = os.path.join(DWNLD_DIR, 'song_audio.m4a')\n",
    "stage_video_filepaths = [\n",
    "    os.path.join(DWNLD_DIR, 'stage_video0.mp4'), \n",
    "    os.path.join(DWNLD_DIR, 'stage_video1.mp4'), \n",
    "    os.path.join(DWNLD_DIR, 'stage_video2.mp4')\n",
    "]\n",
    "stage_audio_filepaths = [\n",
    "    os.path.join(DWNLD_DIR, 'stage_audio0.m4a'), \n",
    "    os.path.join(DWNLD_DIR, 'stage_audio1.m4a'), \n",
    "    os.path.join(DWNLD_DIR, 'stage_audio2.m4a')\n",
    "]\n",
    "\n",
    "song_audio_filename = song_audio_filepath.split(os.path.sep)[-1]\n",
    "stage_audio_filenames = [path.split(os.path.sep)[-1] for path in stage_audio_filepaths]\n",
    "\n",
    "# find timestamp of start of song in stage videos\n",
    "stage_song_starts = []\n",
    "for i in range(len(stage_video_filepaths)):\n",
    "    try:\n",
    "        output = offset.find_time_offset([song_audio_filename, stage_audio_filenames[i]], DWNLD_DIR+os.path.sep, [0, 0])\n",
    "        print(output)\n",
    "        stage_song_starts.append(output[0])\n",
    "    except Exception as e:\n",
    "        print(e)\n",
    "        stage_song_starts.append((1, 0))\n",
    "\n",
    "# get subclips of the song in the stage videos\n",
    "stage_videos_used, stage_videos, stage_audios = [], [], []\n",
    "for i in range(len(stage_video_filepaths)):\n",
    "    if stage_song_starts[i][0] == 0:\n",
    "        stage_videos_used.append(i)\n",
    "        stage_videos.append(VideoFileClip(stage_video_filepaths[i]).subclip(stage_song_starts[i][1]))\n",
    "        stage_audios.append(AudioFileClip(stage_audio_filepaths[i]).subclip(stage_song_starts[i][1]))\n",
    "\n",
    "if len(stage_videos) == 0:\n",
    "    print(\"No suitible videos found\")\n",
    "\n",
    "# load song audio\n",
    "song_audio = AudioFileClip(song_audio_filepath)"
   ]
  },
  {
   "cell_type": "code",
   "execution_count": null,
   "metadata": {},
   "outputs": [],
   "source": [
    "# get subclips of the song in the stage videos\n",
    "\n",
    "# get length of lyrics video\n",
    "lyrics_video = VideoFileClip(lyrics_video_path)\n",
    "\n",
    "stage_videos = []\n",
    "for i, path in enumerate(stage_video_paths):\n",
    "    if stage_song_starts[i][0] == 0:\n",
    "        stage_videos.append(VideoFileClip(path).subclip(stage_song_starts[i][1]))"
   ]
  },
  {
   "cell_type": "code",
   "execution_count": null,
   "metadata": {},
   "outputs": [],
   "source": [
    "# every 5 seconds during the song, splice clips from different performances\n",
    "clips = []\n",
    "stage_video_idx = 0\n",
    "for step in np.arange(0, lyrics_video.duration, 5):\n",
    "    if step+5 < stage_videos[stage_video_idx].duration:\n",
    "        clips.append(stage_videos[stage_video_idx].subclip(step, step+5))\n",
    "    \n",
    "    stage_video_idx = (stage_video_idx + 1) % len(stage_videos)"
   ]
  },
  {
   "cell_type": "code",
   "execution_count": null,
   "metadata": {},
   "outputs": [],
   "source": [
    "clips = []\n",
    "# find cuts in videos\n",
    "video_scenes = []\n",
    "for idx in stage_videos_used:\n",
    "    video_scenes.append(utils.detect_scenes(stage_video_filepaths[idx]))\n",
    "\n",
    "# assemble clips\n",
    "curr_time = 0.0\n",
    "while curr_time > float(song_audio.duration-10):\n",
    "    print(\"curr_time:\", curr_time)\n",
    "    # choose random video\n",
    "    rand_idx = randbelow(len(stage_videos))\n",
    "\n",
    "    # skip shorter videos\n",
    "    if curr_time > float(stage_videos[rand_idx].duration)+2:\n",
    "        continue\n",
    "\n",
    "    # get next cut in this video\n",
    "    for i, scene in enumerate(video_scenes[rand_idx]):\n",
    "        scene_end = utils.timecode_to_seconds(scene[1].get_timecode()) - stage_song_starts[rand_idx][1]\n",
    "        if scene_end > curr_time+1.0 and scene_end < float(song_audio.duration):\n",
    "            clips.append(stage_videos[rand_idx].subclip(curr_time, scene_end))   \n",
    "            curr_time = scene_end"
   ]
  },
  {
   "cell_type": "code",
   "execution_count": null,
   "metadata": {},
   "outputs": [],
   "source": [
    "final_clip = concatenate_videoclips(clips)\n",
    "\n",
    "#final_clip = final_clip.set_duration(lyrics_video.duration)\n",
    "#final_clip = final_clip.set_audio(lyrics_video.audio)\n",
    "\n",
    "final_clip = final_clip.set_audio(stage_videos[0].audio)\n",
    "final_clip.write_videofile(\"stage_mix.mp4\")"
   ]
  },
  {
   "cell_type": "code",
   "execution_count": null,
   "metadata": {},
   "outputs": [],
   "source": [
    "title = f\"ITZY - DALLA DALLA - Stage Mix\"\n",
    "desc = \"Videos Used: \\n\" + \"\\n\".join([ 'dank' ])\n",
    "args = [\n",
    "    #f\"PYTHONPATH={os.path.join(curr_dir, 'youtube-upload')}\", \n",
    "    \"python\", \n",
    "    f\"{os.path.join(curr_dir, 'youtube-upload', 'bin', 'youtube-upload')}\",\n",
    "    f\"--title={title}\",\n",
    "    f\"--description={desc}\",\n",
    "    f\"{os.path.join(curr_dir, 'stage_mix.mp4')}\",\n",
    "    \"--privacy\",\n",
    "    \"private\"\n",
    "]\n",
    "process = Popen(args, stdout=PIPE, stderr=PIPE)\n",
    "output, err = process.communicate()\n",
    "exit_code = process.wait()\n",
    "print(exit_code, str(err), str(output))"
   ]
  },
  {
   "cell_type": "code",
   "execution_count": null,
   "metadata": {},
   "outputs": [],
   "source": [
    "import scenedetect\n",
    "from scenedetect.video_manager import VideoManager\n",
    "from scenedetect.scene_manager import SceneManager\n",
    "from scenedetect.frame_timecode import FrameTimecode\n",
    "from scenedetect.stats_manager import StatsManager\n",
    "from scenedetect.detectors import ContentDetector\n",
    "from scenedetect.detectors import ThresholdDetector\n",
    "\n",
    "import os"
   ]
  },
  {
   "cell_type": "code",
   "execution_count": null,
   "metadata": {},
   "outputs": [],
   "source": [
    "video_manager = VideoManager(['stage_mix.mp4'])\n",
    "stats_manager = StatsManager()\n",
    "scene_manager = SceneManager(stats_manager)\n",
    "# Add ContentDetector algorithm (constructor takes detector options like threshold).\n",
    "scene_manager.add_detector(ContentDetector(threshold=40))\n",
    "base_timecode = video_manager.get_base_timecode()\n",
    "\n",
    "STATS_FILE_PATH = 'testvideo.stats.csv'\n",
    "\n",
    "try:\n",
    "    # If stats file exists, load it.\n",
    "    if os.path.exists(STATS_FILE_PATH):\n",
    "        # Read stats from CSV file opened in read mode:\n",
    "        with open(STATS_FILE_PATH, 'r') as stats_file:\n",
    "            stats_manager.load_from_csv(stats_file, base_timecode)\n",
    "            \n",
    "    start_time = base_timecode + 1.101\n",
    "    print(start_time)\n",
    "    video_manager.set_duration(start_time=start_time)\n",
    "\n",
    "    # Set downscale factor to improve processing speed.\n",
    "    video_manager.set_downscale_factor()\n",
    "\n",
    "    # Start video_manager.\n",
    "    video_manager.start()\n",
    "\n",
    "    # Perform scene detection on video_manager.\n",
    "    scene_manager.detect_scenes(frame_source=video_manager)\n",
    "\n",
    "    # Obtain list of detected scenes.\n",
    "    scene_list = scene_manager.get_scene_list(base_timecode)\n",
    "    # Like FrameTimecodes, each scene in the scene_list can be sorted if the\n",
    "    # list of scenes becomes unsorted.\n",
    "\n",
    "    print('List of scenes obtained:')\n",
    "    for i, scene in enumerate(scene_list):\n",
    "        print('    Scene %2d: Start %s / Frame %d, End %s / Frame %d' % (\n",
    "            i+1,\n",
    "            scene[0].get_timecode(), scene[0].get_frames(),\n",
    "            scene[1].get_timecode(), scene[1].get_frames(),))\n",
    "\n",
    "    # We only write to the stats file if a save is required:\n",
    "    if stats_manager.is_save_required():\n",
    "        with open(STATS_FILE_PATH, 'w') as stats_file:\n",
    "            stats_manager.save_to_csv(stats_file, base_timecode)\n",
    "\n",
    "finally:\n",
    "    video_manager.release()"
   ]
  },
  {
   "cell_type": "code",
   "execution_count": null,
   "metadata": {},
   "outputs": [],
   "source": [
    "stats_df = pd.read_csv('video.stats.csv', header=1)\n",
    "stats_df.iloc[120:140]"
   ]
  },
  {
   "cell_type": "code",
   "execution_count": null,
   "metadata": {},
   "outputs": [],
   "source": [
    "from plotly.offline import download_plotlyjs, init_notebook_mode, plot, iplot\n",
    "import plotly.graph_objs as go\n",
    "from plotly import tools\n",
    "import cufflinks as cf\n",
    "\n",
    "init_notebook_mode(connected=True)\n",
    "cf.set_config_file(world_readable=True, offline=True)"
   ]
  },
  {
   "cell_type": "code",
   "execution_count": null,
   "metadata": {},
   "outputs": [],
   "source": [
    "data = [go.Histogram(x=stats_df['content_val'])]\n",
    "\n",
    "iplot(data, filename='basic histogram')"
   ]
  },
  {
   "cell_type": "code",
   "execution_count": null,
   "metadata": {},
   "outputs": [],
   "source": [
    "from secrets import randbelow\n",
    "print(randbelow(10))"
   ]
  },
  {
   "cell_type": "code",
   "execution_count": null,
   "metadata": {},
   "outputs": [],
   "source": [
    "scene_list"
   ]
  },
  {
   "cell_type": "code",
   "execution_count": null,
   "metadata": {},
   "outputs": [],
   "source": []
  }
 ],
 "metadata": {
  "kernelspec": {
   "display_name": "Python 3",
   "language": "python",
   "name": "python3"
  },
  "language_info": {
   "codemirror_mode": {
    "name": "ipython",
    "version": 3
   },
   "file_extension": ".py",
   "mimetype": "text/x-python",
   "name": "python",
   "nbconvert_exporter": "python",
   "pygments_lexer": "ipython3",
   "version": "3.6.7"
  }
 },
 "nbformat": 4,
 "nbformat_minor": 2
}
