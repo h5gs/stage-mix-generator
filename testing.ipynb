{
 "cells": [
  {
   "cell_type": "code",
   "execution_count": 1,
   "metadata": {},
   "outputs": [],
   "source": [
    "import youtube_dl\n",
    "import os\n",
    "import sys\n",
    "import shutil\n",
    "from moviepy.editor import VideoFileClip, concatenate_videoclips\n",
    "import numpy as np\n",
    "import urllib.request\n",
    "from bs4 import BeautifulSoup\n",
    "\n",
    "from cvcalib.audiosync import offset\n",
    "\n",
    "curr_dir = \"/home/sean/Documents/experiments/stage-mix-generator/\"\n",
    "download_dir = os.path.join(curr_dir, 'temp')"
   ]
  },
  {
   "cell_type": "code",
   "execution_count": 2,
   "metadata": {},
   "outputs": [],
   "source": [
    "song_text = \"Boy With Luv BTS\"\n",
    "lyrics_video_url = \"\"\n",
    "stage_video_urls = []"
   ]
  },
  {
   "cell_type": "code",
   "execution_count": 3,
   "metadata": {},
   "outputs": [],
   "source": [
    "textToSearch = song_text+' lyrics'\n",
    "\n",
    "query = urllib.parse.quote(textToSearch)\n",
    "url = \"https://www.youtube.com/results?search_query=\" + query\n",
    "response = urllib.request.urlopen(url)\n",
    "html = response.read()\n",
    "soup = BeautifulSoup(html, 'html.parser')\n",
    "for vid in soup.findAll(attrs={'class':'yt-uix-tile-link'}):\n",
    "    if 'stage mix' not in vid['title'].lower():\n",
    "        lyrics_video_url = 'https://www.youtube.com' + vid['href']\n",
    "        break"
   ]
  },
  {
   "cell_type": "code",
   "execution_count": 4,
   "metadata": {},
   "outputs": [],
   "source": [
    "textToSearch = song_text+' stage live'\n",
    "\n",
    "query = urllib.parse.quote(textToSearch)\n",
    "url = \"https://www.youtube.com/results?search_query=\" + query\n",
    "response = urllib.request.urlopen(url)\n",
    "html = response.read()\n",
    "soup = BeautifulSoup(html, 'html.parser')\n",
    "for vid in soup.findAll(attrs={'class':'yt-uix-tile-link'}):\n",
    "    if 'stage mix' not in vid['title'].lower():\n",
    "        stage_video_urls.append('https://www.youtube.com' + vid['href'])\n",
    "        \n",
    "        if len(stage_video_urls) >= 5:\n",
    "            break"
   ]
  },
  {
   "cell_type": "code",
   "execution_count": 6,
   "metadata": {},
   "outputs": [
    {
     "name": "stdout",
     "output_type": "stream",
     "text": [
      "[youtube] OEnvXsyGZmU: Downloading webpage\n",
      "[youtube] OEnvXsyGZmU: Downloading video info webpage\n",
      "[download] Destination: /home/sean/Documents/experiments/stage-mix-generator/temp/OEnvXsyGZmU.mp4\n",
      "[download] 100% of 9.21MiB in 00:0152MiB/s ETA 00:000\n",
      "[youtube] OEnvXsyGZmU: Downloading webpage\n",
      "[youtube] OEnvXsyGZmU: Downloading video info webpage\n",
      "[{'format_id': '249', 'url': 'https://r2---sn-0h5nn-jx4e.googlevideo.com/videoplayback?id=o-AG8RN2TrSjbvJEVP8dhzR4fTlOIqruXLUV95jnh8FgeG&itag=249&source=youtube&requiressl=yes&mm=31%2C29&mn=sn-0h5nn-jx4e%2Csn-ab5l6n6s&ms=au%2Crdu&mv=m&pcm2cms=yes&pl=24&ei=zljKXO2iMYqA_9EPsYi9KA&initcwndbps=3160000&mime=audio%2Fwebm&gir=yes&clen=1481180&dur=232.161&lmt=1555065226677891&mt=1556764703&fvip=2&keepalive=yes&beids=9466588&c=WEB&txp=3511222&ip=128.119.202.11&ipbits=0&expire=1556786478&sparams=ip%2Cipbits%2Cexpire%2Cid%2Citag%2Csource%2Crequiressl%2Cmm%2Cmn%2Cms%2Cmv%2Cpcm2cms%2Cpl%2Cei%2Cinitcwndbps%2Cmime%2Cgir%2Cclen%2Cdur%2Clmt&key=yt8&signature=6F983A8FBE7B260E5341FBB39CEEE8E5A8D86955.981D85AF7F4822A7AF42F5C378A6A08B7E6293D9&ratebypass=yes', 'player_url': '/yts/jsbin/player_ias-vflXZ59b4/en_US/base.js', 'ext': 'webm', 'format_note': 'DASH audio', 'acodec': 'opus', 'abr': 50, 'filesize': 1481180, 'tbr': 54.033, 'quality': -1, 'vcodec': 'none', 'downloader_options': {'http_chunk_size': 10485760}, 'format': '249 - audio only (DASH audio)', 'protocol': 'https', 'http_headers': {'User-Agent': 'Mozilla/5.0 (X11; Linux x86_64; rv:59.0) Gecko/20100101 Firefox/59.0', 'Accept-Charset': 'ISO-8859-1,utf-8;q=0.7,*;q=0.7', 'Accept': 'text/html,application/xhtml+xml,application/xml;q=0.9,*/*;q=0.8', 'Accept-Encoding': 'gzip, deflate', 'Accept-Language': 'en-us,en;q=0.5'}}, {'format_id': '250', 'url': 'https://r2---sn-0h5nn-jx4e.googlevideo.com/videoplayback?id=o-AG8RN2TrSjbvJEVP8dhzR4fTlOIqruXLUV95jnh8FgeG&itag=250&source=youtube&requiressl=yes&mm=31%2C29&mn=sn-0h5nn-jx4e%2Csn-ab5l6n6s&ms=au%2Crdu&mv=m&pcm2cms=yes&pl=24&ei=zljKXO2iMYqA_9EPsYi9KA&initcwndbps=3160000&mime=audio%2Fwebm&gir=yes&clen=1947068&dur=232.161&lmt=1555065235584373&mt=1556764703&fvip=2&keepalive=yes&beids=9466588&c=WEB&txp=3511222&ip=128.119.202.11&ipbits=0&expire=1556786478&sparams=ip%2Cipbits%2Cexpire%2Cid%2Citag%2Csource%2Crequiressl%2Cmm%2Cmn%2Cms%2Cmv%2Cpcm2cms%2Cpl%2Cei%2Cinitcwndbps%2Cmime%2Cgir%2Cclen%2Cdur%2Clmt&key=yt8&signature=E2153BB8B9FB3F2F41C3A8060A26B0D935F0544C.1FB051BB2AD02CAB8E77D74DEF9E6DB33F51F667&ratebypass=yes', 'player_url': '/yts/jsbin/player_ias-vflXZ59b4/en_US/base.js', 'ext': 'webm', 'format_note': 'DASH audio', 'acodec': 'opus', 'abr': 70, 'filesize': 1947068, 'tbr': 71.092, 'quality': -1, 'vcodec': 'none', 'downloader_options': {'http_chunk_size': 10485760}, 'format': '250 - audio only (DASH audio)', 'protocol': 'https', 'http_headers': {'User-Agent': 'Mozilla/5.0 (X11; Linux x86_64; rv:59.0) Gecko/20100101 Firefox/59.0', 'Accept-Charset': 'ISO-8859-1,utf-8;q=0.7,*;q=0.7', 'Accept': 'text/html,application/xhtml+xml,application/xml;q=0.9,*/*;q=0.8', 'Accept-Encoding': 'gzip, deflate', 'Accept-Language': 'en-us,en;q=0.5'}}, {'format_id': '140', 'url': 'https://r2---sn-0h5nn-jx4e.googlevideo.com/videoplayback?id=o-AG8RN2TrSjbvJEVP8dhzR4fTlOIqruXLUV95jnh8FgeG&itag=140&source=youtube&requiressl=yes&mm=31%2C29&mn=sn-0h5nn-jx4e%2Csn-ab5l6n6s&ms=au%2Crdu&mv=m&pcm2cms=yes&pl=24&ei=zljKXO2iMYqA_9EPsYi9KA&initcwndbps=3160000&mime=audio%2Fmp4&gir=yes&clen=3758664&dur=232.199&lmt=1555064116595369&mt=1556764703&fvip=2&keepalive=yes&beids=9466588&c=WEB&txp=4531432&ip=128.119.202.11&ipbits=0&expire=1556786478&sparams=ip%2Cipbits%2Cexpire%2Cid%2Citag%2Csource%2Crequiressl%2Cmm%2Cmn%2Cms%2Cmv%2Cpcm2cms%2Cpl%2Cei%2Cinitcwndbps%2Cmime%2Cgir%2Cclen%2Cdur%2Clmt&key=yt8&signature=636FEBC6227AA5384495F132774DCCF027FCD8E9.3080ECD248E08F490D5F9EB28BF00FC499434DD2&ratebypass=yes', 'player_url': '/yts/jsbin/player_ias-vflXZ59b4/en_US/base.js', 'ext': 'm4a', 'format_note': 'DASH audio', 'acodec': 'mp4a.40.2', 'abr': 128, 'container': 'm4a_dash', 'filesize': 3758664, 'tbr': 130.579, 'quality': -1, 'vcodec': 'none', 'downloader_options': {'http_chunk_size': 10485760}, 'format': '140 - audio only (DASH audio)', 'protocol': 'https', 'http_headers': {'User-Agent': 'Mozilla/5.0 (X11; Linux x86_64; rv:59.0) Gecko/20100101 Firefox/59.0', 'Accept-Charset': 'ISO-8859-1,utf-8;q=0.7,*;q=0.7', 'Accept': 'text/html,application/xhtml+xml,application/xml;q=0.9,*/*;q=0.8', 'Accept-Encoding': 'gzip, deflate', 'Accept-Language': 'en-us,en;q=0.5'}}, {'format_id': '171', 'url': 'https://r2---sn-0h5nn-jx4e.googlevideo.com/videoplayback?id=o-AG8RN2TrSjbvJEVP8dhzR4fTlOIqruXLUV95jnh8FgeG&itag=171&source=youtube&requiressl=yes&mm=31%2C29&mn=sn-0h5nn-jx4e%2Csn-ab5l6n6s&ms=au%2Crdu&mv=m&pcm2cms=yes&pl=24&ei=zljKXO2iMYqA_9EPsYi9KA&initcwndbps=3160000&mime=audio%2Fwebm&gir=yes&clen=3598059&dur=232.125&lmt=1555065228988922&mt=1556764703&fvip=2&keepalive=yes&beids=9466588&c=WEB&txp=3511222&ip=128.119.202.11&ipbits=0&expire=1556786478&sparams=ip%2Cipbits%2Cexpire%2Cid%2Citag%2Csource%2Crequiressl%2Cmm%2Cmn%2Cms%2Cmv%2Cpcm2cms%2Cpl%2Cei%2Cinitcwndbps%2Cmime%2Cgir%2Cclen%2Cdur%2Clmt&key=yt8&signature=03A03997111B9609E63FDD38B3CF2196034656A5.8F802697D96FB5947AEDCEF739653BEE86712D2D&ratebypass=yes', 'player_url': '/yts/jsbin/player_ias-vflXZ59b4/en_US/base.js', 'ext': 'webm', 'acodec': 'vorbis', 'format_note': 'DASH audio', 'abr': 128, 'filesize': 3598059, 'tbr': 135.35, 'quality': -1, 'vcodec': 'none', 'downloader_options': {'http_chunk_size': 10485760}, 'format': '171 - audio only (DASH audio)', 'protocol': 'https', 'http_headers': {'User-Agent': 'Mozilla/5.0 (X11; Linux x86_64; rv:59.0) Gecko/20100101 Firefox/59.0', 'Accept-Charset': 'ISO-8859-1,utf-8;q=0.7,*;q=0.7', 'Accept': 'text/html,application/xhtml+xml,application/xml;q=0.9,*/*;q=0.8', 'Accept-Encoding': 'gzip, deflate', 'Accept-Language': 'en-us,en;q=0.5'}}, {'format_id': '251', 'url': 'https://r2---sn-0h5nn-jx4e.googlevideo.com/videoplayback?id=o-AG8RN2TrSjbvJEVP8dhzR4fTlOIqruXLUV95jnh8FgeG&itag=251&source=youtube&requiressl=yes&mm=31%2C29&mn=sn-0h5nn-jx4e%2Csn-ab5l6n6s&ms=au%2Crdu&mv=m&pcm2cms=yes&pl=24&ei=zljKXO2iMYqA_9EPsYi9KA&initcwndbps=3160000&mime=audio%2Fwebm&gir=yes&clen=3830678&dur=232.161&lmt=1555065228477960&mt=1556764703&fvip=2&keepalive=yes&beids=9466588&c=WEB&txp=3511222&ip=128.119.202.11&ipbits=0&expire=1556786478&sparams=ip%2Cipbits%2Cexpire%2Cid%2Citag%2Csource%2Crequiressl%2Cmm%2Cmn%2Cms%2Cmv%2Cpcm2cms%2Cpl%2Cei%2Cinitcwndbps%2Cmime%2Cgir%2Cclen%2Cdur%2Clmt&key=yt8&signature=10CB1419DBA3C0433BB495F447BB88FE7569A178.6E5E0151B3838222B9A2E0905F358176DB908107&ratebypass=yes', 'player_url': '/yts/jsbin/player_ias-vflXZ59b4/en_US/base.js', 'ext': 'webm', 'format_note': 'DASH audio', 'acodec': 'opus', 'abr': 160, 'filesize': 3830678, 'tbr': 139.179, 'quality': -1, 'vcodec': 'none', 'downloader_options': {'http_chunk_size': 10485760}, 'format': '251 - audio only (DASH audio)', 'protocol': 'https', 'http_headers': {'User-Agent': 'Mozilla/5.0 (X11; Linux x86_64; rv:59.0) Gecko/20100101 Firefox/59.0', 'Accept-Charset': 'ISO-8859-1,utf-8;q=0.7,*;q=0.7', 'Accept': 'text/html,application/xhtml+xml,application/xml;q=0.9,*/*;q=0.8', 'Accept-Encoding': 'gzip, deflate', 'Accept-Language': 'en-us,en;q=0.5'}}, {'format_id': '394', 'url': 'https://r2---sn-0h5nn-jx4e.googlevideo.com/videoplayback?id=o-AG8RN2TrSjbvJEVP8dhzR4fTlOIqruXLUV95jnh8FgeG&aitags=133%2C134%2C135%2C136%2C137%2C160%2C242%2C243%2C244%2C247%2C248%2C278%2C394%2C395%2C396%2C397&itag=394&source=youtube&requiressl=yes&mm=31%2C29&mn=sn-0h5nn-jx4e%2Csn-ab5l6n6s&ms=au%2Crdu&mv=m&pcm2cms=yes&pl=24&ei=zljKXO2iMYqA_9EPsYi9KA&initcwndbps=3160000&mime=video%2Fmp4&gir=yes&clen=1483914&dur=232.131&lmt=1555069375236205&mt=1556764703&fvip=2&keepalive=yes&beids=9466588&c=WEB&txp=5531432&ip=128.119.202.11&ipbits=0&expire=1556786478&sparams=ip%2Cipbits%2Cexpire%2Cid%2Caitags%2Csource%2Crequiressl%2Cmm%2Cmn%2Cms%2Cmv%2Cpcm2cms%2Cpl%2Cei%2Cinitcwndbps%2Cmime%2Cgir%2Cclen%2Cdur%2Clmt&key=yt8&signature=1712EDCA32CFF527ED9D4A0989B0A7B729551A95.349414A33B15203759F7F0AC0B384B2CF673DC48&ratebypass=yes', 'player_url': '/yts/jsbin/player_ias-vflXZ59b4/en_US/base.js', 'filesize': 1483914, 'tbr': 68.32, 'width': 256, 'height': 144, 'fps': 30, 'format_note': '144p', 'quality': -1, 'ext': 'mp4', 'vcodec': 'av01.0.05M.08', 'acodec': 'none', 'downloader_options': {'http_chunk_size': 10485760}, 'format': '394 - 256x144 (144p)', 'protocol': 'https', 'http_headers': {'User-Agent': 'Mozilla/5.0 (X11; Linux x86_64; rv:59.0) Gecko/20100101 Firefox/59.0', 'Accept-Charset': 'ISO-8859-1,utf-8;q=0.7,*;q=0.7', 'Accept': 'text/html,application/xhtml+xml,application/xml;q=0.9,*/*;q=0.8', 'Accept-Encoding': 'gzip, deflate', 'Accept-Language': 'en-us,en;q=0.5'}}, {'format_id': '160', 'url': 'https://r2---sn-0h5nn-jx4e.googlevideo.com/videoplayback?id=o-AG8RN2TrSjbvJEVP8dhzR4fTlOIqruXLUV95jnh8FgeG&aitags=133%2C134%2C135%2C136%2C137%2C160%2C242%2C243%2C244%2C247%2C248%2C278%2C394%2C395%2C396%2C397&itag=160&source=youtube&requiressl=yes&mm=31%2C29&mn=sn-0h5nn-jx4e%2Csn-ab5l6n6s&ms=au%2Crdu&mv=m&pcm2cms=yes&pl=24&ei=zljKXO2iMYqA_9EPsYi9KA&initcwndbps=3160000&mime=video%2Fmp4&gir=yes&clen=558745&dur=232.131&lmt=1555064332717639&mt=1556764703&fvip=2&keepalive=yes&beids=9466588&c=WEB&txp=4535432&ip=128.119.202.11&ipbits=0&expire=1556786478&sparams=ip%2Cipbits%2Cexpire%2Cid%2Caitags%2Csource%2Crequiressl%2Cmm%2Cmn%2Cms%2Cmv%2Cpcm2cms%2Cpl%2Cei%2Cinitcwndbps%2Cmime%2Cgir%2Cclen%2Cdur%2Clmt&key=yt8&signature=03244D6CC5D8B0BA444DCC59ED1B199B6BFBEED8.CD869EBBA871FDD697D0F69F0875C6B2DCFF353C&ratebypass=yes', 'player_url': '/yts/jsbin/player_ias-vflXZ59b4/en_US/base.js', 'ext': 'mp4', 'height': 144, 'format_note': '144p', 'vcodec': 'avc1.4d400c', 'filesize': 558745, 'tbr': 75.023, 'width': 256, 'fps': 30, 'quality': -1, 'acodec': 'none', 'downloader_options': {'http_chunk_size': 10485760}, 'format': '160 - 256x144 (144p)', 'protocol': 'https', 'http_headers': {'User-Agent': 'Mozilla/5.0 (X11; Linux x86_64; rv:59.0) Gecko/20100101 Firefox/59.0', 'Accept-Charset': 'ISO-8859-1,utf-8;q=0.7,*;q=0.7', 'Accept': 'text/html,application/xhtml+xml,application/xml;q=0.9,*/*;q=0.8', 'Accept-Encoding': 'gzip, deflate', 'Accept-Language': 'en-us,en;q=0.5'}}, {'format_id': '133', 'url': 'https://r2---sn-0h5nn-jx4e.googlevideo.com/videoplayback?id=o-AG8RN2TrSjbvJEVP8dhzR4fTlOIqruXLUV95jnh8FgeG&aitags=133%2C134%2C135%2C136%2C137%2C160%2C242%2C243%2C244%2C247%2C248%2C278%2C394%2C395%2C396%2C397&itag=133&source=youtube&requiressl=yes&mm=31%2C29&mn=sn-0h5nn-jx4e%2Csn-ab5l6n6s&ms=au%2Crdu&mv=m&pcm2cms=yes&pl=24&ei=zljKXO2iMYqA_9EPsYi9KA&initcwndbps=3160000&mime=video%2Fmp4&gir=yes&clen=940181&dur=232.131&lmt=1555064334374968&mt=1556764703&fvip=2&keepalive=yes&beids=9466588&c=WEB&txp=4535432&ip=128.119.202.11&ipbits=0&expire=1556786478&sparams=ip%2Cipbits%2Cexpire%2Cid%2Caitags%2Csource%2Crequiressl%2Cmm%2Cmn%2Cms%2Cmv%2Cpcm2cms%2Cpl%2Cei%2Cinitcwndbps%2Cmime%2Cgir%2Cclen%2Cdur%2Clmt&key=yt8&signature=840FD2AB4F856FA72D40F3C6A5B76E63D83C6BDB.881D6DB8FA39132FE221C5D6EE76083221FDD673&ratebypass=yes', 'player_url': '/yts/jsbin/player_ias-vflXZ59b4/en_US/base.js', 'ext': 'mp4', 'height': 240, 'format_note': '240p', 'vcodec': 'avc1.4d4015', 'filesize': 940181, 'tbr': 76.906, 'width': 426, 'fps': 30, 'quality': -1, 'acodec': 'none', 'downloader_options': {'http_chunk_size': 10485760}, 'format': '133 - 426x240 (240p)', 'protocol': 'https', 'http_headers': {'User-Agent': 'Mozilla/5.0 (X11; Linux x86_64; rv:59.0) Gecko/20100101 Firefox/59.0', 'Accept-Charset': 'ISO-8859-1,utf-8;q=0.7,*;q=0.7', 'Accept': 'text/html,application/xhtml+xml,application/xml;q=0.9,*/*;q=0.8', 'Accept-Encoding': 'gzip, deflate', 'Accept-Language': 'en-us,en;q=0.5'}}, {'format_id': '278', 'url': 'https://r2---sn-0h5nn-jx4e.googlevideo.com/videoplayback?id=o-AG8RN2TrSjbvJEVP8dhzR4fTlOIqruXLUV95jnh8FgeG&aitags=133%2C134%2C135%2C136%2C137%2C160%2C242%2C243%2C244%2C247%2C248%2C278%2C394%2C395%2C396%2C397&itag=278&source=youtube&requiressl=yes&mm=31%2C29&mn=sn-0h5nn-jx4e%2Csn-ab5l6n6s&ms=au%2Crdu&mv=m&pcm2cms=yes&pl=24&ei=zljKXO2iMYqA_9EPsYi9KA&initcwndbps=3160000&mime=video%2Fwebm&gir=yes&clen=1024708&dur=232.132&lmt=1555063234232763&mt=1556764703&fvip=2&keepalive=yes&beids=9466588&c=WEB&txp=3516222&ip=128.119.202.11&ipbits=0&expire=1556786478&sparams=ip%2Cipbits%2Cexpire%2Cid%2Caitags%2Csource%2Crequiressl%2Cmm%2Cmn%2Cms%2Cmv%2Cpcm2cms%2Cpl%2Cei%2Cinitcwndbps%2Cmime%2Cgir%2Cclen%2Cdur%2Clmt&key=yt8&signature=C73814FE668E66A1FFA5C196B34F523486B33BBF.2C6C857E8D353E0F2FD6B5757AFC300E8A54D060&ratebypass=yes', 'player_url': '/yts/jsbin/player_ias-vflXZ59b4/en_US/base.js', 'ext': 'webm', 'height': 144, 'format_note': '144p', 'container': 'webm', 'vcodec': 'vp9', 'filesize': 1024708, 'tbr': 80.196, 'width': 256, 'fps': 30, 'quality': -1, 'acodec': 'none', 'downloader_options': {'http_chunk_size': 10485760}, 'format': '278 - 256x144 (144p)', 'protocol': 'https', 'http_headers': {'User-Agent': 'Mozilla/5.0 (X11; Linux x86_64; rv:59.0) Gecko/20100101 Firefox/59.0', 'Accept-Charset': 'ISO-8859-1,utf-8;q=0.7,*;q=0.7', 'Accept': 'text/html,application/xhtml+xml,application/xml;q=0.9,*/*;q=0.8', 'Accept-Encoding': 'gzip, deflate', 'Accept-Language': 'en-us,en;q=0.5'}}, {'format_id': '395', 'url': 'https://r2---sn-0h5nn-jx4e.googlevideo.com/videoplayback?id=o-AG8RN2TrSjbvJEVP8dhzR4fTlOIqruXLUV95jnh8FgeG&aitags=133%2C134%2C135%2C136%2C137%2C160%2C242%2C243%2C244%2C247%2C248%2C278%2C394%2C395%2C396%2C397&itag=395&source=youtube&requiressl=yes&mm=31%2C29&mn=sn-0h5nn-jx4e%2Csn-ab5l6n6s&ms=au%2Crdu&mv=m&pcm2cms=yes&pl=24&ei=zljKXO2iMYqA_9EPsYi9KA&initcwndbps=3160000&mime=video%2Fmp4&gir=yes&clen=1384877&dur=232.131&lmt=1555069465023366&mt=1556764703&fvip=2&keepalive=yes&beids=9466588&c=WEB&txp=5531432&ip=128.119.202.11&ipbits=0&expire=1556786478&sparams=ip%2Cipbits%2Cexpire%2Cid%2Caitags%2Csource%2Crequiressl%2Cmm%2Cmn%2Cms%2Cmv%2Cpcm2cms%2Cpl%2Cei%2Cinitcwndbps%2Cmime%2Cgir%2Cclen%2Cdur%2Clmt&key=yt8&signature=A727095F6429B1DEEABEF792DEACDB39B100D94E.2764B6ED83B2AA3F93C179C5E18D7579EE104EA6&ratebypass=yes', 'player_url': '/yts/jsbin/player_ias-vflXZ59b4/en_US/base.js', 'filesize': 1384877, 'tbr': 109.342, 'width': 426, 'height': 240, 'fps': 30, 'format_note': '240p', 'quality': -1, 'ext': 'mp4', 'vcodec': 'av01.0.05M.08', 'acodec': 'none', 'downloader_options': {'http_chunk_size': 10485760}, 'format': '395 - 426x240 (240p)', 'protocol': 'https', 'http_headers': {'User-Agent': 'Mozilla/5.0 (X11; Linux x86_64; rv:59.0) Gecko/20100101 Firefox/59.0', 'Accept-Charset': 'ISO-8859-1,utf-8;q=0.7,*;q=0.7', 'Accept': 'text/html,application/xhtml+xml,application/xml;q=0.9,*/*;q=0.8', 'Accept-Encoding': 'gzip, deflate', 'Accept-Language': 'en-us,en;q=0.5'}}, {'format_id': '134', 'url': 'https://r2---sn-0h5nn-jx4e.googlevideo.com/videoplayback?id=o-AG8RN2TrSjbvJEVP8dhzR4fTlOIqruXLUV95jnh8FgeG&aitags=133%2C134%2C135%2C136%2C137%2C160%2C242%2C243%2C244%2C247%2C248%2C278%2C394%2C395%2C396%2C397&itag=134&source=youtube&requiressl=yes&mm=31%2C29&mn=sn-0h5nn-jx4e%2Csn-ab5l6n6s&ms=au%2Crdu&mv=m&pcm2cms=yes&pl=24&ei=zljKXO2iMYqA_9EPsYi9KA&initcwndbps=3160000&mime=video%2Fmp4&gir=yes&clen=1585900&dur=232.131&lmt=1555064333780183&mt=1556764703&fvip=2&keepalive=yes&beids=9466588&c=WEB&txp=4535432&ip=128.119.202.11&ipbits=0&expire=1556786478&sparams=ip%2Cipbits%2Cexpire%2Cid%2Caitags%2Csource%2Crequiressl%2Cmm%2Cmn%2Cms%2Cmv%2Cpcm2cms%2Cpl%2Cei%2Cinitcwndbps%2Cmime%2Cgir%2Cclen%2Cdur%2Clmt&key=yt8&signature=7DFA4B586F429DD9B725B002BB97F4EB046441B5.A35EF70831873605CBB62D69549D38E52CC3BABC&ratebypass=yes', 'player_url': '/yts/jsbin/player_ias-vflXZ59b4/en_US/base.js', 'ext': 'mp4', 'height': 360, 'format_note': '360p', 'vcodec': 'avc1.4d401e', 'filesize': 1585900, 'tbr': 121.969, 'width': 640, 'fps': 30, 'quality': -1, 'acodec': 'none', 'downloader_options': {'http_chunk_size': 10485760}, 'format': '134 - 640x360 (360p)', 'protocol': 'https', 'http_headers': {'User-Agent': 'Mozilla/5.0 (X11; Linux x86_64; rv:59.0) Gecko/20100101 Firefox/59.0', 'Accept-Charset': 'ISO-8859-1,utf-8;q=0.7,*;q=0.7', 'Accept': 'text/html,application/xhtml+xml,application/xml;q=0.9,*/*;q=0.8', 'Accept-Encoding': 'gzip, deflate', 'Accept-Language': 'en-us,en;q=0.5'}}, {'format_id': '242', 'url': 'https://r2---sn-0h5nn-jx4e.googlevideo.com/videoplayback?id=o-AG8RN2TrSjbvJEVP8dhzR4fTlOIqruXLUV95jnh8FgeG&aitags=133%2C134%2C135%2C136%2C137%2C160%2C242%2C243%2C244%2C247%2C248%2C278%2C394%2C395%2C396%2C397&itag=242&source=youtube&requiressl=yes&mm=31%2C29&mn=sn-0h5nn-jx4e%2Csn-ab5l6n6s&ms=au%2Crdu&mv=m&pcm2cms=yes&pl=24&ei=zljKXO2iMYqA_9EPsYi9KA&initcwndbps=3160000&mime=video%2Fwebm&gir=yes&clen=1561699&dur=232.132&lmt=1555063234224178&mt=1556764703&fvip=2&keepalive=yes&beids=9466588&c=WEB&txp=3516222&ip=128.119.202.11&ipbits=0&expire=1556786478&sparams=ip%2Cipbits%2Cexpire%2Cid%2Caitags%2Csource%2Crequiressl%2Cmm%2Cmn%2Cms%2Cmv%2Cpcm2cms%2Cpl%2Cei%2Cinitcwndbps%2Cmime%2Cgir%2Cclen%2Cdur%2Clmt&key=yt8&signature=DBF1CF4AC54628F965D1383F5A2DF6F438DFF1A6.DF434F01A66FDB70D2216AA0B127E701BC68D983&ratebypass=yes', 'player_url': '/yts/jsbin/player_ias-vflXZ59b4/en_US/base.js', 'ext': 'webm', 'height': 240, 'format_note': '240p', 'vcodec': 'vp9', 'filesize': 1561699, 'tbr': 133.353, 'width': 426, 'fps': 30, 'quality': -1, 'acodec': 'none', 'downloader_options': {'http_chunk_size': 10485760}, 'format': '242 - 426x240 (240p)', 'protocol': 'https', 'http_headers': {'User-Agent': 'Mozilla/5.0 (X11; Linux x86_64; rv:59.0) Gecko/20100101 Firefox/59.0', 'Accept-Charset': 'ISO-8859-1,utf-8;q=0.7,*;q=0.7', 'Accept': 'text/html,application/xhtml+xml,application/xml;q=0.9,*/*;q=0.8', 'Accept-Encoding': 'gzip, deflate', 'Accept-Language': 'en-us,en;q=0.5'}}, {'format_id': '135', 'url': 'https://r2---sn-0h5nn-jx4e.googlevideo.com/videoplayback?id=o-AG8RN2TrSjbvJEVP8dhzR4fTlOIqruXLUV95jnh8FgeG&aitags=133%2C134%2C135%2C136%2C137%2C160%2C242%2C243%2C244%2C247%2C248%2C278%2C394%2C395%2C396%2C397&itag=135&source=youtube&requiressl=yes&mm=31%2C29&mn=sn-0h5nn-jx4e%2Csn-ab5l6n6s&ms=au%2Crdu&mv=m&pcm2cms=yes&pl=24&ei=zljKXO2iMYqA_9EPsYi9KA&initcwndbps=3160000&mime=video%2Fmp4&gir=yes&clen=2396239&dur=232.131&lmt=1555064338428722&mt=1556764703&fvip=2&keepalive=yes&beids=9466588&c=WEB&txp=4535432&ip=128.119.202.11&ipbits=0&expire=1556786478&sparams=ip%2Cipbits%2Cexpire%2Cid%2Caitags%2Csource%2Crequiressl%2Cmm%2Cmn%2Cms%2Cmv%2Cpcm2cms%2Cpl%2Cei%2Cinitcwndbps%2Cmime%2Cgir%2Cclen%2Cdur%2Clmt&key=yt8&signature=3D179231770256A1DAE508F87AB8210A6C621B8E.96B5677C6D11E16177D92D6C31E3A5B4443D640D&ratebypass=yes', 'player_url': '/yts/jsbin/player_ias-vflXZ59b4/en_US/base.js', 'ext': 'mp4', 'height': 480, 'format_note': '480p', 'vcodec': 'avc1.4d401f', 'filesize': 2396239, 'tbr': 168.9, 'width': 854, 'fps': 30, 'quality': -1, 'acodec': 'none', 'downloader_options': {'http_chunk_size': 10485760}, 'format': '135 - 854x480 (480p)', 'protocol': 'https', 'http_headers': {'User-Agent': 'Mozilla/5.0 (X11; Linux x86_64; rv:59.0) Gecko/20100101 Firefox/59.0', 'Accept-Charset': 'ISO-8859-1,utf-8;q=0.7,*;q=0.7', 'Accept': 'text/html,application/xhtml+xml,application/xml;q=0.9,*/*;q=0.8', 'Accept-Encoding': 'gzip, deflate', 'Accept-Language': 'en-us,en;q=0.5'}}, {'format_id': '396', 'url': 'https://r2---sn-0h5nn-jx4e.googlevideo.com/videoplayback?id=o-AG8RN2TrSjbvJEVP8dhzR4fTlOIqruXLUV95jnh8FgeG&aitags=133%2C134%2C135%2C136%2C137%2C160%2C242%2C243%2C244%2C247%2C248%2C278%2C394%2C395%2C396%2C397&itag=396&source=youtube&requiressl=yes&mm=31%2C29&mn=sn-0h5nn-jx4e%2Csn-ab5l6n6s&ms=au%2Crdu&mv=m&pcm2cms=yes&pl=24&ei=zljKXO2iMYqA_9EPsYi9KA&initcwndbps=3160000&mime=video%2Fmp4&gir=yes&clen=2660553&dur=232.131&lmt=1555069604572970&mt=1556764703&fvip=2&keepalive=yes&beids=9466588&c=WEB&txp=5531432&ip=128.119.202.11&ipbits=0&expire=1556786478&sparams=ip%2Cipbits%2Cexpire%2Cid%2Caitags%2Csource%2Crequiressl%2Cmm%2Cmn%2Cms%2Cmv%2Cpcm2cms%2Cpl%2Cei%2Cinitcwndbps%2Cmime%2Cgir%2Cclen%2Cdur%2Clmt&key=yt8&signature=071F01A902FE9E7192DB935FB65A8538A9103AF5.C13D95E7B3E24294FB5CE44BECB9936086CBA715&ratebypass=yes', 'player_url': '/yts/jsbin/player_ias-vflXZ59b4/en_US/base.js', 'filesize': 2660553, 'tbr': 190.285, 'width': 640, 'height': 360, 'fps': 30, 'format_note': '360p', 'quality': -1, 'ext': 'mp4', 'vcodec': 'av01.0.05M.08', 'acodec': 'none', 'downloader_options': {'http_chunk_size': 10485760}, 'format': '396 - 640x360 (360p)', 'protocol': 'https', 'http_headers': {'User-Agent': 'Mozilla/5.0 (X11; Linux x86_64; rv:59.0) Gecko/20100101 Firefox/59.0', 'Accept-Charset': 'ISO-8859-1,utf-8;q=0.7,*;q=0.7', 'Accept': 'text/html,application/xhtml+xml,application/xml;q=0.9,*/*;q=0.8', 'Accept-Encoding': 'gzip, deflate', 'Accept-Language': 'en-us,en;q=0.5'}}, {'format_id': '243', 'url': 'https://r2---sn-0h5nn-jx4e.googlevideo.com/videoplayback?id=o-AG8RN2TrSjbvJEVP8dhzR4fTlOIqruXLUV95jnh8FgeG&aitags=133%2C134%2C135%2C136%2C137%2C160%2C242%2C243%2C244%2C247%2C248%2C278%2C394%2C395%2C396%2C397&itag=243&source=youtube&requiressl=yes&mm=31%2C29&mn=sn-0h5nn-jx4e%2Csn-ab5l6n6s&ms=au%2Crdu&mv=m&pcm2cms=yes&pl=24&ei=zljKXO2iMYqA_9EPsYi9KA&initcwndbps=3160000&mime=video%2Fwebm&gir=yes&clen=2669108&dur=232.132&lmt=1555063234241574&mt=1556764703&fvip=2&keepalive=yes&beids=9466588&c=WEB&txp=3516222&ip=128.119.202.11&ipbits=0&expire=1556786478&sparams=ip%2Cipbits%2Cexpire%2Cid%2Caitags%2Csource%2Crequiressl%2Cmm%2Cmn%2Cms%2Cmv%2Cpcm2cms%2Cpl%2Cei%2Cinitcwndbps%2Cmime%2Cgir%2Cclen%2Cdur%2Clmt&key=yt8&signature=0A6767E4E91B72CB344BD16FD255E3B15B4B7958.01CE978F171BE75BB3345C605A4DFE98D2EFEE92&ratebypass=yes', 'player_url': '/yts/jsbin/player_ias-vflXZ59b4/en_US/base.js', 'ext': 'webm', 'height': 360, 'format_note': '360p', 'vcodec': 'vp9', 'filesize': 2669108, 'tbr': 193.093, 'width': 640, 'fps': 30, 'quality': -1, 'acodec': 'none', 'downloader_options': {'http_chunk_size': 10485760}, 'format': '243 - 640x360 (360p)', 'protocol': 'https', 'http_headers': {'User-Agent': 'Mozilla/5.0 (X11; Linux x86_64; rv:59.0) Gecko/20100101 Firefox/59.0', 'Accept-Charset': 'ISO-8859-1,utf-8;q=0.7,*;q=0.7', 'Accept': 'text/html,application/xhtml+xml,application/xml;q=0.9,*/*;q=0.8', 'Accept-Encoding': 'gzip, deflate', 'Accept-Language': 'en-us,en;q=0.5'}}, {'format_id': '136', 'url': 'https://r2---sn-0h5nn-jx4e.googlevideo.com/videoplayback?id=o-AG8RN2TrSjbvJEVP8dhzR4fTlOIqruXLUV95jnh8FgeG&aitags=133%2C134%2C135%2C136%2C137%2C160%2C242%2C243%2C244%2C247%2C248%2C278%2C394%2C395%2C396%2C397&itag=136&source=youtube&requiressl=yes&mm=31%2C29&mn=sn-0h5nn-jx4e%2Csn-ab5l6n6s&ms=au%2Crdu&mv=m&pcm2cms=yes&pl=24&ei=zljKXO2iMYqA_9EPsYi9KA&initcwndbps=3160000&mime=video%2Fmp4&gir=yes&clen=3571432&dur=232.131&lmt=1555064357046239&mt=1556764703&fvip=2&keepalive=yes&beids=9466588&c=WEB&txp=4535432&ip=128.119.202.11&ipbits=0&expire=1556786478&sparams=ip%2Cipbits%2Cexpire%2Cid%2Caitags%2Csource%2Crequiressl%2Cmm%2Cmn%2Cms%2Cmv%2Cpcm2cms%2Cpl%2Cei%2Cinitcwndbps%2Cmime%2Cgir%2Cclen%2Cdur%2Clmt&key=yt8&signature=47209FAA78705438AC1CB4152BE20BB863E7639B.B4454589D3F73C27D0743050D10B98720D997A0D&ratebypass=yes', 'player_url': '/yts/jsbin/player_ias-vflXZ59b4/en_US/base.js', 'ext': 'mp4', 'height': 720, 'format_note': '720p', 'vcodec': 'avc1.4d401f', 'filesize': 3571432, 'tbr': 251.038, 'width': 1280, 'fps': 30, 'quality': -1, 'acodec': 'none', 'downloader_options': {'http_chunk_size': 10485760}, 'format': '136 - 1280x720 (720p)', 'protocol': 'https', 'http_headers': {'User-Agent': 'Mozilla/5.0 (X11; Linux x86_64; rv:59.0) Gecko/20100101 Firefox/59.0', 'Accept-Charset': 'ISO-8859-1,utf-8;q=0.7,*;q=0.7', 'Accept': 'text/html,application/xhtml+xml,application/xml;q=0.9,*/*;q=0.8', 'Accept-Encoding': 'gzip, deflate', 'Accept-Language': 'en-us,en;q=0.5'}}, {'format_id': '244', 'url': 'https://r2---sn-0h5nn-jx4e.googlevideo.com/videoplayback?id=o-AG8RN2TrSjbvJEVP8dhzR4fTlOIqruXLUV95jnh8FgeG&aitags=133%2C134%2C135%2C136%2C137%2C160%2C242%2C243%2C244%2C247%2C248%2C278%2C394%2C395%2C396%2C397&itag=244&source=youtube&requiressl=yes&mm=31%2C29&mn=sn-0h5nn-jx4e%2Csn-ab5l6n6s&ms=au%2Crdu&mv=m&pcm2cms=yes&pl=24&ei=zljKXO2iMYqA_9EPsYi9KA&initcwndbps=3160000&mime=video%2Fwebm&gir=yes&clen=3982072&dur=232.132&lmt=1555063234223952&mt=1556764703&fvip=2&keepalive=yes&beids=9466588&c=WEB&txp=3516222&ip=128.119.202.11&ipbits=0&expire=1556786478&sparams=ip%2Cipbits%2Cexpire%2Cid%2Caitags%2Csource%2Crequiressl%2Cmm%2Cmn%2Cms%2Cmv%2Cpcm2cms%2Cpl%2Cei%2Cinitcwndbps%2Cmime%2Cgir%2Cclen%2Cdur%2Clmt&key=yt8&signature=81EAB735E7C9E1EDA228A99899A6951FF48B363B.31CF4A1CB4D5F634BD0FE594180BAD2C475AE4E8&ratebypass=yes', 'player_url': '/yts/jsbin/player_ias-vflXZ59b4/en_US/base.js', 'ext': 'webm', 'height': 480, 'format_note': '480p', 'vcodec': 'vp9', 'filesize': 3982072, 'tbr': 270.144, 'width': 854, 'fps': 30, 'quality': -1, 'acodec': 'none', 'downloader_options': {'http_chunk_size': 10485760}, 'format': '244 - 854x480 (480p)', 'protocol': 'https', 'http_headers': {'User-Agent': 'Mozilla/5.0 (X11; Linux x86_64; rv:59.0) Gecko/20100101 Firefox/59.0', 'Accept-Charset': 'ISO-8859-1,utf-8;q=0.7,*;q=0.7', 'Accept': 'text/html,application/xhtml+xml,application/xml;q=0.9,*/*;q=0.8', 'Accept-Encoding': 'gzip, deflate', 'Accept-Language': 'en-us,en;q=0.5'}}, {'format_id': '397', 'url': 'https://r2---sn-0h5nn-jx4e.googlevideo.com/videoplayback?id=o-AG8RN2TrSjbvJEVP8dhzR4fTlOIqruXLUV95jnh8FgeG&aitags=133%2C134%2C135%2C136%2C137%2C160%2C242%2C243%2C244%2C247%2C248%2C278%2C394%2C395%2C396%2C397&itag=397&source=youtube&requiressl=yes&mm=31%2C29&mn=sn-0h5nn-jx4e%2Csn-ab5l6n6s&ms=au%2Crdu&mv=m&pcm2cms=yes&pl=24&ei=zljKXO2iMYqA_9EPsYi9KA&initcwndbps=3160000&mime=video%2Fmp4&gir=yes&clen=4376572&dur=232.131&lmt=1555069925970959&mt=1556764703&fvip=2&keepalive=yes&beids=9466588&c=WEB&txp=5531432&ip=128.119.202.11&ipbits=0&expire=1556786478&sparams=ip%2Cipbits%2Cexpire%2Cid%2Caitags%2Csource%2Crequiressl%2Cmm%2Cmn%2Cms%2Cmv%2Cpcm2cms%2Cpl%2Cei%2Cinitcwndbps%2Cmime%2Cgir%2Cclen%2Cdur%2Clmt&key=yt8&signature=72E6955680889737F14F5D5D994BF88025D60532.A4D02ECCEB5E1A0AD5350E0281793632F612F674&ratebypass=yes', 'player_url': '/yts/jsbin/player_ias-vflXZ59b4/en_US/base.js', 'filesize': 4376572, 'tbr': 396.21, 'width': 854, 'height': 480, 'fps': 30, 'format_note': '480p', 'quality': -1, 'ext': 'mp4', 'vcodec': 'av01.0.05M.08', 'acodec': 'none', 'downloader_options': {'http_chunk_size': 10485760}, 'format': '397 - 854x480 (480p)', 'protocol': 'https', 'http_headers': {'User-Agent': 'Mozilla/5.0 (X11; Linux x86_64; rv:59.0) Gecko/20100101 Firefox/59.0', 'Accept-Charset': 'ISO-8859-1,utf-8;q=0.7,*;q=0.7', 'Accept': 'text/html,application/xhtml+xml,application/xml;q=0.9,*/*;q=0.8', 'Accept-Encoding': 'gzip, deflate', 'Accept-Language': 'en-us,en;q=0.5'}}, {'format_id': '247', 'url': 'https://r2---sn-0h5nn-jx4e.googlevideo.com/videoplayback?id=o-AG8RN2TrSjbvJEVP8dhzR4fTlOIqruXLUV95jnh8FgeG&aitags=133%2C134%2C135%2C136%2C137%2C160%2C242%2C243%2C244%2C247%2C248%2C278%2C394%2C395%2C396%2C397&itag=247&source=youtube&requiressl=yes&mm=31%2C29&mn=sn-0h5nn-jx4e%2Csn-ab5l6n6s&ms=au%2Crdu&mv=m&pcm2cms=yes&pl=24&ei=zljKXO2iMYqA_9EPsYi9KA&initcwndbps=3160000&mime=video%2Fwebm&gir=yes&clen=7638771&dur=232.132&lmt=1555063234243880&mt=1556764703&fvip=2&keepalive=yes&beids=9466588&c=WEB&txp=3516222&ip=128.119.202.11&ipbits=0&expire=1556786478&sparams=ip%2Cipbits%2Cexpire%2Cid%2Caitags%2Csource%2Crequiressl%2Cmm%2Cmn%2Cms%2Cmv%2Cpcm2cms%2Cpl%2Cei%2Cinitcwndbps%2Cmime%2Cgir%2Cclen%2Cdur%2Clmt&key=yt8&signature=E6AB51685746D8AAE5080EB25F369FC0DFAA0FD4.E94291DE59401B5B673ABD26B0F2F718621FBDF5&ratebypass=yes', 'player_url': '/yts/jsbin/player_ias-vflXZ59b4/en_US/base.js', 'ext': 'webm', 'height': 720, 'format_note': '720p', 'vcodec': 'vp9', 'filesize': 7638771, 'tbr': 473.23, 'width': 1280, 'fps': 30, 'quality': -1, 'acodec': 'none', 'downloader_options': {'http_chunk_size': 10485760}, 'format': '247 - 1280x720 (720p)', 'protocol': 'https', 'http_headers': {'User-Agent': 'Mozilla/5.0 (X11; Linux x86_64; rv:59.0) Gecko/20100101 Firefox/59.0', 'Accept-Charset': 'ISO-8859-1,utf-8;q=0.7,*;q=0.7', 'Accept': 'text/html,application/xhtml+xml,application/xml;q=0.9,*/*;q=0.8', 'Accept-Encoding': 'gzip, deflate', 'Accept-Language': 'en-us,en;q=0.5'}}, {'format_id': '137', 'url': 'https://r2---sn-0h5nn-jx4e.googlevideo.com/videoplayback?id=o-AG8RN2TrSjbvJEVP8dhzR4fTlOIqruXLUV95jnh8FgeG&aitags=133%2C134%2C135%2C136%2C137%2C160%2C242%2C243%2C244%2C247%2C248%2C278%2C394%2C395%2C396%2C397&itag=137&source=youtube&requiressl=yes&mm=31%2C29&mn=sn-0h5nn-jx4e%2Csn-ab5l6n6s&ms=au%2Crdu&mv=m&pcm2cms=yes&pl=24&ei=zljKXO2iMYqA_9EPsYi9KA&initcwndbps=3160000&mime=video%2Fmp4&gir=yes&clen=8664547&dur=232.131&lmt=1555064366652813&mt=1556764703&fvip=2&keepalive=yes&beids=9466588&c=WEB&txp=4535432&ip=128.119.202.11&ipbits=0&expire=1556786478&sparams=ip%2Cipbits%2Cexpire%2Cid%2Caitags%2Csource%2Crequiressl%2Cmm%2Cmn%2Cms%2Cmv%2Cpcm2cms%2Cpl%2Cei%2Cinitcwndbps%2Cmime%2Cgir%2Cclen%2Cdur%2Clmt&key=yt8&signature=AE826E8457A52E4A1D14116FCAE8CB549E3504EB.C9C58C778CA2E374E9BCBC66CEFB186EED0138FC&ratebypass=yes', 'player_url': '/yts/jsbin/player_ias-vflXZ59b4/en_US/base.js', 'ext': 'mp4', 'height': 1080, 'format_note': '1080p', 'vcodec': 'avc1.640028', 'filesize': 8664547, 'tbr': 593.886, 'width': 1920, 'fps': 30, 'quality': -1, 'acodec': 'none', 'downloader_options': {'http_chunk_size': 10485760}, 'format': '137 - 1920x1080 (1080p)', 'protocol': 'https', 'http_headers': {'User-Agent': 'Mozilla/5.0 (X11; Linux x86_64; rv:59.0) Gecko/20100101 Firefox/59.0', 'Accept-Charset': 'ISO-8859-1,utf-8;q=0.7,*;q=0.7', 'Accept': 'text/html,application/xhtml+xml,application/xml;q=0.9,*/*;q=0.8', 'Accept-Encoding': 'gzip, deflate', 'Accept-Language': 'en-us,en;q=0.5'}}, {'format_id': '248', 'url': 'https://r2---sn-0h5nn-jx4e.googlevideo.com/videoplayback?id=o-AG8RN2TrSjbvJEVP8dhzR4fTlOIqruXLUV95jnh8FgeG&aitags=133%2C134%2C135%2C136%2C137%2C160%2C242%2C243%2C244%2C247%2C248%2C278%2C394%2C395%2C396%2C397&itag=248&source=youtube&requiressl=yes&mm=31%2C29&mn=sn-0h5nn-jx4e%2Csn-ab5l6n6s&ms=au%2Crdu&mv=m&pcm2cms=yes&pl=24&ei=zljKXO2iMYqA_9EPsYi9KA&initcwndbps=3160000&mime=video%2Fwebm&gir=yes&clen=10379958&dur=232.132&lmt=1555063234226064&mt=1556764703&fvip=2&keepalive=yes&beids=9466588&c=WEB&txp=3516222&ip=128.119.202.11&ipbits=0&expire=1556786478&sparams=ip%2Cipbits%2Cexpire%2Cid%2Caitags%2Csource%2Crequiressl%2Cmm%2Cmn%2Cms%2Cmv%2Cpcm2cms%2Cpl%2Cei%2Cinitcwndbps%2Cmime%2Cgir%2Cclen%2Cdur%2Clmt&key=yt8&signature=9F4940061B8D524DAADE6CBC7603F3C34717128E.A9E192ACBFDDF9F032B3A8C82F43DCC0836640BB&ratebypass=yes', 'player_url': '/yts/jsbin/player_ias-vflXZ59b4/en_US/base.js', 'ext': 'webm', 'height': 1080, 'format_note': '1080p', 'vcodec': 'vp9', 'filesize': 10379958, 'tbr': 678.359, 'width': 1920, 'fps': 30, 'quality': -1, 'acodec': 'none', 'downloader_options': {'http_chunk_size': 10485760}, 'format': '248 - 1920x1080 (1080p)', 'protocol': 'https', 'http_headers': {'User-Agent': 'Mozilla/5.0 (X11; Linux x86_64; rv:59.0) Gecko/20100101 Firefox/59.0', 'Accept-Charset': 'ISO-8859-1,utf-8;q=0.7,*;q=0.7', 'Accept': 'text/html,application/xhtml+xml,application/xml;q=0.9,*/*;q=0.8', 'Accept-Encoding': 'gzip, deflate', 'Accept-Language': 'en-us,en;q=0.5'}}, {'format_id': '18', 'url': 'https://r2---sn-0h5nn-jx4e.googlevideo.com/videoplayback?id=o-AG8RN2TrSjbvJEVP8dhzR4fTlOIqruXLUV95jnh8FgeG&itag=18&source=youtube&requiressl=yes&mm=31%2C29&mn=sn-0h5nn-jx4e%2Csn-ab5l6n6s&ms=au%2Crdu&mv=m&pcm2cms=yes&pl=24&ei=zljKXO2iMYqA_9EPsYi9KA&initcwndbps=3160000&mime=video%2Fmp4&gir=yes&clen=9654277&ratebypass=yes&dur=232.199&lmt=1555063804513509&mt=1556764703&fvip=2&beids=9466588&c=WEB&txp=4531432&ip=128.119.202.11&ipbits=0&expire=1556786478&sparams=ip%2Cipbits%2Cexpire%2Cid%2Citag%2Csource%2Crequiressl%2Cmm%2Cmn%2Cms%2Cmv%2Cpcm2cms%2Cpl%2Cei%2Cinitcwndbps%2Cmime%2Cgir%2Cclen%2Cratebypass%2Cdur%2Clmt&key=yt8&signature=CEBC614955C70891FC89148C5FD7BC75FD1D4FC1.89B55C7F0F5033B6A49CD3464706F98DA59531E2', 'player_url': '/yts/jsbin/player_ias-vflXZ59b4/en_US/base.js', 'ext': 'mp4', 'width': 640, 'height': 360, 'acodec': 'mp4a.40.2', 'abr': 96, 'vcodec': 'avc1.42001E', 'resolution': '640x360', 'filesize': 9654277, 'format_note': 'medium', 'quality': 1, 'format': '18 - 640x360 (medium)', 'protocol': 'https', 'http_headers': {'User-Agent': 'Mozilla/5.0 (X11; Linux x86_64; rv:59.0) Gecko/20100101 Firefox/59.0', 'Accept-Charset': 'ISO-8859-1,utf-8;q=0.7,*;q=0.7', 'Accept': 'text/html,application/xhtml+xml,application/xml;q=0.9,*/*;q=0.8', 'Accept-Encoding': 'gzip, deflate', 'Accept-Language': 'en-us,en;q=0.5'}}]\n",
      "[youtube] D2xmlzMOsmM: Downloading webpage\n"
     ]
    },
    {
     "name": "stdout",
     "output_type": "stream",
     "text": [
      "[youtube] D2xmlzMOsmM: Downloading video info webpage\n",
      "[download] Destination: /home/sean/Documents/experiments/stage-mix-generator/temp/D2xmlzMOsmM.mp4\n",
      "[download] 100% of 25.11MiB in 00:0275MiB/s ETA 00:000\n",
      "[youtube] D2xmlzMOsmM: Downloading webpage\n",
      "[youtube] D2xmlzMOsmM: Downloading video info webpage\n",
      "[youtube] RC-NO97kuQ8: Downloading webpage\n",
      "[youtube] RC-NO97kuQ8: Downloading video info webpage\n",
      "[download] Destination: /home/sean/Documents/experiments/stage-mix-generator/temp/RC-NO97kuQ8.mp4\n",
      "[download] 100% of 22.69MiB in 00:0190MiB/s ETA 00:003\n",
      "[youtube] RC-NO97kuQ8: Downloading webpage\n",
      "[youtube] RC-NO97kuQ8: Downloading video info webpage\n",
      "[youtube] O4NB73HTlxI: Downloading webpage\n",
      "[youtube] O4NB73HTlxI: Downloading video info webpage\n",
      "[download] Destination: /home/sean/Documents/experiments/stage-mix-generator/temp/O4NB73HTlxI.mp4\n",
      "[download] 100% of 22.22MiB in 00:0104MiB/s ETA 00:003\n",
      "[youtube] O4NB73HTlxI: Downloading webpage\n",
      "[youtube] O4NB73HTlxI: Downloading video info webpage\n",
      "[youtube] uyCJW_DEvDs: Downloading webpage\n",
      "[youtube] uyCJW_DEvDs: Downloading video info webpage\n",
      "[download] Destination: /home/sean/Documents/experiments/stage-mix-generator/temp/uyCJW_DEvDs.mp4\n",
      "[download] 100% of 20.28MiB in 00:0109MiB/s ETA 00:00known ETA\n",
      "[youtube] uyCJW_DEvDs: Downloading webpage\n",
      "[youtube] uyCJW_DEvDs: Downloading video info webpage\n",
      "[youtube] Wbr_B0ZGg1g: Downloading webpage\n",
      "[youtube] Wbr_B0ZGg1g: Downloading video info webpage\n",
      "[download] Destination: /home/sean/Documents/experiments/stage-mix-generator/temp/Wbr_B0ZGg1g.mp4\n",
      "[download] 100% of 22.24MiB in 00:0141MiB/s ETA 00:004\n",
      "[youtube] Wbr_B0ZGg1g: Downloading webpage\n",
      "[youtube] Wbr_B0ZGg1g: Downloading video info webpage\n"
     ]
    }
   ],
   "source": [
    "# download videos\n",
    "\n",
    "ydl_opts = {\n",
    "    'format': 'mp4',\n",
    "    'outtmpl': os.path.join(download_dir, '%(id)s.%(ext)s')\n",
    "}\n",
    "with youtube_dl.YoutubeDL(ydl_opts) as ydl:\n",
    "    \n",
    "    meta = ydl.extract_info(\n",
    "        lyrics_video_url, download=False)\n",
    "    \n",
    "    print(meta['formats'])\n",
    "    \n",
    "    lyrics_audio = None\n",
    "    for fmt in meta['formats']:\n",
    "        if fmt['format_id'] == 140:\n",
    "            \n",
    "    \n",
    "    ydl.download([yrics_video_url])\n",
    "    \n",
    "    shutil.move(os.path.join(download_dir, f\"{meta['id']}.mp4\"), os.path.join(download_dir, \"lyrics_video.mp4\"))\n",
    "    \n",
    "    for i, url in enumerate(stage_video_urls):\n",
    "        ydl.download([url])\n",
    "        meta = ydl.extract_info(\n",
    "            url, download=False)\n",
    "        \n",
    "        shutil.move(os.path.join(download_dir, f\"{meta['id']}.mp4\"), os.path.join(download_dir, f\"stage_video{i}.mp4\"))"
   ]
  },
  {
   "cell_type": "code",
   "execution_count": 19,
   "metadata": {},
   "outputs": [
    {
     "name": "stdout",
     "output_type": "stream",
     "text": [
      "[youtube] zzq8uI1BnJk: Downloading webpage\n",
      "[youtube] zzq8uI1BnJk: Downloading video info webpage\n",
      "[youtube] zzq8uI1BnJk: Downloading webpage\n",
      "[youtube] zzq8uI1BnJk: Downloading video info webpage\n",
      "[download] Destination: /home/sean/Documents/experiments/stage-mix-generator/temp/zzq8uI1BnJk.m4a\n",
      "[download] 100% of 3.35MiB in 00:0044MiB/s ETA 00:0003\n",
      "[ffmpeg] Correcting container in \"/home/sean/Documents/experiments/stage-mix-generator/temp/zzq8uI1BnJk.m4a\"\n"
     ]
    }
   ],
   "source": [
    "ydl_opts = {\n",
    "    'format': 'm4a', # choice of quality\n",
    "    'outtmpl': os.path.join(download_dir, '%(id)s.%(ext)s')\n",
    "}\n",
    "with youtube_dl.YoutubeDL(ydl_opts) as ydl:\n",
    "    meta = ydl.extract_info('https://www.youtube.com/watch?v=zzq8uI1BnJk', download=False)\n",
    "    ydl.download(['https://www.youtube.com/watch?v=zzq8uI1BnJk'])\n",
    "    \n",
    "    shutil.move(os.path.join(download_dir, f\"{meta['id']}.m4a\"), os.path.join(download_dir, \"lyrics_video.m4a\"))"
   ]
  },
  {
   "cell_type": "code",
   "execution_count": null,
   "metadata": {},
   "outputs": [],
   "source": [
    "lyrics_video_path = os.path.join(download_dir, 'lyrics_video.mp4')\n",
    "stage_video_paths = [ os.path.join(download_dir, f'stage_video{i}.mp4') for i in range(len(stage_video_urls)) ]\n",
    "\n",
    "# find timestamp of start of song in stage videos\n",
    "offset.find_time_offset(['lyrics_video.mp4', 'stage_video0.mp4'], download_dir+'/', [0, 0])"
   ]
  },
  {
   "cell_type": "code",
   "execution_count": 23,
   "metadata": {},
   "outputs": [
    {
     "data": {
      "text/plain": [
       "(0,\n",
       " 'b\"ffmpeg version 3.4.4-0ubuntu0.18.04.1 Copyright (c) 2000-2018 the FFmpeg developers\\\\n  built with gcc 7 (Ubuntu 7.3.0-16ubuntu3)\\\\n  configuration: --prefix=/usr --extra-version=0ubuntu0.18.04.1 --toolchain=hardened --libdir=/usr/lib/x86_64-linux-gnu --incdir=/usr/include/x86_64-linux-gnu --enable-gpl --disable-stripping --enable-avresample --enable-avisynth --enable-gnutls --enable-ladspa --enable-libass --enable-libbluray --enable-libbs2b --enable-libcaca --enable-libcdio --enable-libflite --enable-libfontconfig --enable-libfreetype --enable-libfribidi --enable-libgme --enable-libgsm --enable-libmp3lame --enable-libmysofa --enable-libopenjpeg --enable-libopenmpt --enable-libopus --enable-libpulse --enable-librubberband --enable-librsvg --enable-libshine --enable-libsnappy --enable-libsoxr --enable-libspeex --enable-libssh --enable-libtheora --enable-libtwolame --enable-libvorbis --enable-libvpx --enable-libwavpack --enable-libwebp --enable-libx265 --enable-libxml2 --enable-libxvid --enable-libzmq --enable-libzvbi --enable-omx --enable-openal --enable-opengl --enable-sdl2 --enable-libdc1394 --enable-libdrm --enable-libiec61883 --enable-chromaprint --enable-frei0r --enable-libopencv --enable-libx264 --enable-shared\\\\n  WARNING: library configuration mismatch\\\\n  avcodec     configuration: --prefix=/usr --extra-version=0ubuntu0.18.04.1 --toolchain=hardened --libdir=/usr/lib/x86_64-linux-gnu --incdir=/usr/include/x86_64-linux-gnu --enable-gpl --disable-stripping --enable-avresample --enable-avisynth --enable-gnutls --enable-ladspa --enable-libass --enable-libbluray --enable-libbs2b --enable-libcaca --enable-libcdio --enable-libflite --enable-libfontconfig --enable-libfreetype --enable-libfribidi --enable-libgme --enable-libgsm --enable-libmp3lame --enable-libmysofa --enable-libopenjpeg --enable-libopenmpt --enable-libopus --enable-libpulse --enable-librubberband --enable-librsvg --enable-libshine --enable-libsnappy --enable-libsoxr --enable-libspeex --enable-libssh --enable-libtheora --enable-libtwolame --enable-libvorbis --enable-libvpx --enable-libwavpack --enable-libwebp --enable-libx265 --enable-libxml2 --enable-libxvid --enable-libzmq --enable-libzvbi --enable-omx --enable-openal --enable-opengl --enable-sdl2 --enable-libdc1394 --enable-libdrm --enable-libiec61883 --enable-chromaprint --enable-frei0r --enable-libopencv --enable-libx264 --enable-shared --enable-version3 --disable-doc --disable-programs --enable-libopencore_amrnb --enable-libopencore_amrwb --enable-libtesseract --enable-libvo_amrwbenc\\\\n  libavutil      55. 78.100 / 55. 78.100\\\\n  libavcodec     57.107.100 / 57.107.100\\\\n  libavformat    57. 83.100 / 57. 83.100\\\\n  libavdevice    57. 10.100 / 57. 10.100\\\\n  libavfilter     6.107.100 /  6.107.100\\\\n  libavresample   3.  7.  0 /  3.  7.  0\\\\n  libswscale      4.  8.100 /  4.  8.100\\\\n  libswresample   2.  9.100 /  2.  9.100\\\\n  libpostproc    54.  7.100 / 54.  7.100\\\\nInput #0, mov,mp4,m4a,3gp,3g2,mj2, from \\'/home/sean/Documents/experiments/stage-mix-generator/temp/lyrics_audio.m4a\\':\\\\n  Metadata:\\\\n    major_brand     : isom\\\\n    minor_version   : 512\\\\n    compatible_brands: isomiso2mp41\\\\n    encoder         : Lavf57.83.100\\\\n  Duration: 00:03:41.84, start: 0.000000, bitrate: 129 kb/s\\\\n    Stream #0:0(und): Audio: aac (LC) (mp4a / 0x6134706D), 44100 Hz, stereo, fltp, 127 kb/s (default)\\\\n    Metadata:\\\\n      handler_name    : SoundHandler\\\\nStream mapping:\\\\n  Stream #0:0 -> #0:0 (aac (native) -> pcm_s16le (native))\\\\nPress [q] to stop, [?] for help\\\\nOutput #0, wav, to \\'/home/sean/Documents/experiments/stage-mix-generator/temp/lyrics_audioWAV.wav\\':\\\\n  Metadata:\\\\n    major_brand     : isom\\\\n    minor_version   : 512\\\\n    compatible_brands: isomiso2mp41\\\\n    ISFT            : Lavf57.83.100\\\\n    Stream #0:0(und): Audio: pcm_s16le ([1][0][0][0] / 0x0001), 44100 Hz, mono, s16, 705 kb/s (default)\\\\n    Metadata:\\\\n      handler_name    : SoundHandler\\\\n      encoder         : Lavc57.107.100 pcm_s16le\\\\nsize=   19108kB time=00:03:41.84 bitrate= 705.6kbits/s speed= 524x    \\\\nvideo:0kB audio:19108kB subtitle:0kB other streams:0kB global headers:0kB muxing overhead: 0.000399%\\\\n\"',\n",
       " '/home/sean/Documents/experiments/stage-mix-generator/temp/lyrics_audioWAV.wav',\n",
       " \"b''\")"
      ]
     },
     "execution_count": 23,
     "metadata": {},
     "output_type": "execute_result"
    }
   ],
   "source": [
    "import os.path as osp\n",
    "from subprocess import Popen, PIPE\n",
    "folder = download_dir\n",
    "audio_file = 'lyrics_audio.m4a'\n",
    "track_name = audio_file.split(\".\")\n",
    "audio_output_name = track_name[0] + \"WAV.wav\"  # !! CHECK TO SEE IF FILE IS IN UPLOADS DIRECTORY\n",
    "audio_output_path = osp.join(folder,audio_output_name)\n",
    "#ffmpeg was accepted back into Debian, and libav is now a 2nd choice, so, what gives? -Greg\n",
    "#Now piping the output back to this process (to reduce verbosity and potentially be able to use\n",
    "#the output).-Greg\n",
    "#TODO: detect whether user has avconv or ffmpeg, and use the appropriate call\n",
    "args = [\"ffmpeg\", \"-y\", \"-i\", osp.join(folder, audio_file), \"-ac\", \"1\", \"-f\", \"wav\", audio_output_path]\n",
    "process = Popen(args, stdout=PIPE, stderr=PIPE)\n",
    "output, err = process.communicate()\n",
    "exit_code = process.wait()\n",
    "exit_code, str(err), audio_output_path, str(output)"
   ]
  },
  {
   "cell_type": "code",
   "execution_count": null,
   "metadata": {},
   "outputs": [],
   "source": [
    "stage_song_starts = []\n",
    "for i in range(len(stage_video_urls)):\n",
    "    output = offset.find_time_offset(['lyrics_video.mp4', f'stage_video{i}.mp4'], download_dir+'/', [0, 0])\n",
    "    print(output)\n",
    "    stage_song_starts.append(output[0])"
   ]
  },
  {
   "cell_type": "code",
   "execution_count": null,
   "metadata": {},
   "outputs": [],
   "source": [
    "# get subclips of the song in the stage videos\n",
    "\n",
    "# get length of lyrics video\n",
    "lyrics_video = VideoFileClip(lyrics_video_path)\n",
    "\n",
    "stage_videos = []\n",
    "for i, path in enumerate(stage_video_paths):\n",
    "    if stage_song_starts[i][0] == 0:\n",
    "        stage_videos.append(VideoFileClip(path).subclip(stage_song_starts[i][1]))"
   ]
  },
  {
   "cell_type": "code",
   "execution_count": null,
   "metadata": {},
   "outputs": [],
   "source": [
    "# every 5 seconds during the song, splice clips from different performances\n",
    "\n",
    "clips = []\n",
    "stage_video_idx = 0\n",
    "for step in np.arange(0, lyrics_video.duration, 5):\n",
    "    if step+5 < stage_videos[stage_video_idx].duration:\n",
    "        clips.append(stage_videos[stage_video_idx].subclip(step, step+5))\n",
    "    \n",
    "    stage_video_idx = (stage_video_idx + 1) % len(stage_videos)\n",
    "    \n",
    "final_clip = concatenate_videoclips(clips)\n",
    "\n",
    "#final_clip = final_clip.set_duration(lyrics_video.duration)\n",
    "#final_clip = final_clip.set_audio(lyrics_video.audio)\n",
    "\n",
    "final_clip = final_clip.set_audio(stage_videos[0].audio)\n",
    "final_clip.write_videofile(\"stage_mix.mp4\")"
   ]
  },
  {
   "cell_type": "code",
   "execution_count": null,
   "metadata": {},
   "outputs": [],
   "source": []
  }
 ],
 "metadata": {
  "kernelspec": {
   "display_name": "Python 3",
   "language": "python",
   "name": "python3"
  },
  "language_info": {
   "codemirror_mode": {
    "name": "ipython",
    "version": 3
   },
   "file_extension": ".py",
   "mimetype": "text/x-python",
   "name": "python",
   "nbconvert_exporter": "python",
   "pygments_lexer": "ipython3",
   "version": "3.6.7"
  }
 },
 "nbformat": 4,
 "nbformat_minor": 2
}
